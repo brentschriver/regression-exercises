{
 "cells": [
  {
   "cell_type": "code",
   "execution_count": 1,
   "id": "7e867bc2",
   "metadata": {},
   "outputs": [],
   "source": [
    "import pandas as pd\n",
    "import env\n",
    "from sklearn.model_selection import train_test_split\n",
    "from sklearn.preprocessing import MinMaxScaler\n",
    "import os\n",
    "import numpy as np\n",
    "import matplotlib.pyplot as plt\n",
    "import seaborn as sns\n",
    "import sklearn.preprocessing\n",
    "from scipy.stats import pearsonr, spearmanr\n",
    "\n",
    "import sklearn.linear_model\n",
    "import sklearn.feature_selection\n",
    "import sklearn.preprocessing\n",
    "\n",
    "# import splitting and imputing functions\n",
    "from sklearn.model_selection import train_test_split\n",
    "from sklearn.impute import SimpleImputer\n",
    "\n",
    "# turn off pink boxes for demo\n",
    "import warnings\n",
    "warnings.filterwarnings(\"ignore\")"
   ]
  },
  {
   "cell_type": "code",
   "execution_count": 2,
   "id": "4aba97b8",
   "metadata": {},
   "outputs": [],
   "source": [
    "# This function connects to the Codeup database.\n",
    "def get_connection(db, user=env.user, host=env.host, password=env.password):\n",
    "    return f'mysql+pymysql://{user}:{password}@{host}/{db}'\n",
    "    \n",
    "# This function fetches the specified data and stores it as a Pandas dataframe\n",
    "def zillow_sql():\n",
    "    '''\n",
    "    This function reads the zillow data from the Codeup database into a Pandas dataframe.\n",
    "    '''\n",
    "    sql_query = \"\"\"\n",
    "                select * from properties_2017\n",
    "                left join predictions_2017 using(parcelid)\n",
    "                where propertylandusetypeid = 261;\n",
    "                \"\"\"\n",
    "    \n",
    "    # Read in DataFrame from Codeup db.\n",
    "    zillow_df = pd.read_sql(sql_query, get_connection('zillow'))\n",
    "    \n",
    "    return zillow_df\n",
    "\n",
    "# This function caches the zillow data.\n",
    "def get_zillow_data():\n",
    "    '''\n",
    "    This function reads in iris data from Codeup database, writes data to\n",
    "    a csv file if a local file does not exist, and returns a df.\n",
    "    '''\n",
    "    if os.path.isfile('zillow.csv'):\n",
    "        \n",
    "        # If csv file exists read in data from csv file.\n",
    "        zillow_df = pd.read_csv('zillow.csv', index_col=0)\n",
    "        \n",
    "    else:\n",
    "        \n",
    "        # Read fresh data from db into a DataFrame\n",
    "        zillow_df = zillow_sql()\n",
    "        \n",
    "        # Cache data\n",
    "        zillow_df.to_csv('zillow.csv')\n",
    "        \n",
    "    return zillow_df"
   ]
  },
  {
   "cell_type": "markdown",
   "id": "310b781f",
   "metadata": {},
   "source": [
    "# Project Objectives:\n",
    "#### * Document code, process (data acquistion, preparation, exploratory data analysis and statistical testing, modeling, and model evaluation), findings, and key takeaways in a Jupyter Notebook Final Report.\n",
    "\n",
    "#### * Create modules (acquire.py, prepare.py) that make your process repeateable and your report (notebook) easier to read and follow.\n",
    "\n",
    "#### * Ask exploratory questions of your data that will help you understand more about the attributes and drivers of home value. Answer questions through charts and statistical tests.\n",
    "\n",
    "#### * Construct a model to predict assessed home value for single family properties using regression techniques.\n",
    "\n",
    "#### * Make recommendations to a data science team about how to improve predictions.\n",
    "\n",
    "#### * Refine your work into a Report, in the form of a jupyter notebook, that you will walk through in a 5 minute presentation to a group of collegues and managers about the work you did, why, goals, what you found, your methdologies, and your conclusions.\n",
    "\n",
    "#### * Be prepared to answer panel questions about your code, process, findings and key takeaways, and model."
   ]
  },
  {
   "cell_type": "markdown",
   "id": "ee015fe7",
   "metadata": {},
   "source": [
    "# Target: predict property tax assessed values ('taxvaluedollarcnt') of Single Family Properties "
   ]
  },
  {
   "cell_type": "markdown",
   "id": "44c16492",
   "metadata": {},
   "source": [
    "## * Ask exploratory questions of your data that will help you understand more about the attributes and drivers of home value. Answer questions through charts and statistical tests."
   ]
  },
  {
   "cell_type": "markdown",
   "id": "71a8a29d",
   "metadata": {},
   "source": [
    "#### Which columns seem like it would be interesting if there was a correlation?"
   ]
  },
  {
   "cell_type": "code",
   "execution_count": 3,
   "id": "075f1539",
   "metadata": {},
   "outputs": [],
   "source": [
    "# These would be interesting features to investigate.\n",
    "interesting = ['latitude', 'longitude', 'regionidcity', 'retionidcounty', 'regionidzip']"
   ]
  },
  {
   "cell_type": "markdown",
   "id": "3de076c2",
   "metadata": {},
   "source": [
    "#### Which columns or attributes should influence the target?"
   ]
  },
  {
   "cell_type": "code",
   "execution_count": 4,
   "id": "66447f77",
   "metadata": {},
   "outputs": [],
   "source": [
    "# These are the features you would expect to influence the pricing of a house.\n",
    "expected_features = ['architecturalstyletypeid', 'airconditioningtypeid', 'buildingclasstypeid', 'heatingorsystemtypeid', 'storytypeid', 'typeconstructiontypeid']"
   ]
  },
  {
   "cell_type": "code",
   "execution_count": 5,
   "id": "908a7118",
   "metadata": {},
   "outputs": [],
   "source": [
    "# Store the zillow data as a Pandas dataframe.\n",
    "zillow_df = get_zillow_data()"
   ]
  },
  {
   "cell_type": "code",
   "execution_count": 6,
   "id": "a6ac2278",
   "metadata": {},
   "outputs": [],
   "source": [
    "# Make an 'incaseshithappens' copy of the dataframe.\n",
    "original_zillow_df_copy = zillow_df"
   ]
  },
  {
   "cell_type": "code",
   "execution_count": 7,
   "id": "d65735bd",
   "metadata": {},
   "outputs": [
    {
     "data": {
      "text/html": [
       "<div>\n",
       "<style scoped>\n",
       "    .dataframe tbody tr th:only-of-type {\n",
       "        vertical-align: middle;\n",
       "    }\n",
       "\n",
       "    .dataframe tbody tr th {\n",
       "        vertical-align: top;\n",
       "    }\n",
       "\n",
       "    .dataframe thead th {\n",
       "        text-align: right;\n",
       "    }\n",
       "</style>\n",
       "<table border=\"1\" class=\"dataframe\">\n",
       "  <thead>\n",
       "    <tr style=\"text-align: right;\">\n",
       "      <th></th>\n",
       "      <th>parcelid</th>\n",
       "      <th>id</th>\n",
       "      <th>airconditioningtypeid</th>\n",
       "      <th>architecturalstyletypeid</th>\n",
       "      <th>basementsqft</th>\n",
       "      <th>bathroomcnt</th>\n",
       "      <th>bedroomcnt</th>\n",
       "      <th>buildingclasstypeid</th>\n",
       "      <th>buildingqualitytypeid</th>\n",
       "      <th>calculatedbathnbr</th>\n",
       "      <th>...</th>\n",
       "      <th>taxvaluedollarcnt</th>\n",
       "      <th>assessmentyear</th>\n",
       "      <th>landtaxvaluedollarcnt</th>\n",
       "      <th>taxamount</th>\n",
       "      <th>taxdelinquencyflag</th>\n",
       "      <th>taxdelinquencyyear</th>\n",
       "      <th>censustractandblock</th>\n",
       "      <th>id.1</th>\n",
       "      <th>logerror</th>\n",
       "      <th>transactiondate</th>\n",
       "    </tr>\n",
       "  </thead>\n",
       "  <tbody>\n",
       "    <tr>\n",
       "      <th>0</th>\n",
       "      <td>17173851</td>\n",
       "      <td>787</td>\n",
       "      <td>NaN</td>\n",
       "      <td>NaN</td>\n",
       "      <td>NaN</td>\n",
       "      <td>2.0</td>\n",
       "      <td>4.0</td>\n",
       "      <td>NaN</td>\n",
       "      <td>NaN</td>\n",
       "      <td>2.0</td>\n",
       "      <td>...</td>\n",
       "      <td>64712.0</td>\n",
       "      <td>2016.0</td>\n",
       "      <td>17519.0</td>\n",
       "      <td>781.00</td>\n",
       "      <td>NaN</td>\n",
       "      <td>NaN</td>\n",
       "      <td>6.111004e+13</td>\n",
       "      <td>389.0</td>\n",
       "      <td>0.088469</td>\n",
       "      <td>2017-01-03</td>\n",
       "    </tr>\n",
       "    <tr>\n",
       "      <th>1</th>\n",
       "      <td>10821119</td>\n",
       "      <td>1702</td>\n",
       "      <td>NaN</td>\n",
       "      <td>NaN</td>\n",
       "      <td>NaN</td>\n",
       "      <td>2.0</td>\n",
       "      <td>2.0</td>\n",
       "      <td>NaN</td>\n",
       "      <td>6.0</td>\n",
       "      <td>2.0</td>\n",
       "      <td>...</td>\n",
       "      <td>381638.0</td>\n",
       "      <td>2016.0</td>\n",
       "      <td>274127.0</td>\n",
       "      <td>4692.27</td>\n",
       "      <td>NaN</td>\n",
       "      <td>NaN</td>\n",
       "      <td>6.037131e+13</td>\n",
       "      <td>402.0</td>\n",
       "      <td>0.025629</td>\n",
       "      <td>2017-01-03</td>\n",
       "    </tr>\n",
       "    <tr>\n",
       "      <th>2</th>\n",
       "      <td>11007640</td>\n",
       "      <td>2412</td>\n",
       "      <td>1.0</td>\n",
       "      <td>NaN</td>\n",
       "      <td>NaN</td>\n",
       "      <td>2.0</td>\n",
       "      <td>3.0</td>\n",
       "      <td>NaN</td>\n",
       "      <td>8.0</td>\n",
       "      <td>2.0</td>\n",
       "      <td>...</td>\n",
       "      <td>305307.0</td>\n",
       "      <td>2016.0</td>\n",
       "      <td>160505.0</td>\n",
       "      <td>3887.80</td>\n",
       "      <td>NaN</td>\n",
       "      <td>NaN</td>\n",
       "      <td>6.037106e+13</td>\n",
       "      <td>2699.0</td>\n",
       "      <td>0.020360</td>\n",
       "      <td>2017-01-12</td>\n",
       "    </tr>\n",
       "    <tr>\n",
       "      <th>3</th>\n",
       "      <td>11457850</td>\n",
       "      <td>3770</td>\n",
       "      <td>NaN</td>\n",
       "      <td>NaN</td>\n",
       "      <td>NaN</td>\n",
       "      <td>2.0</td>\n",
       "      <td>3.0</td>\n",
       "      <td>NaN</td>\n",
       "      <td>6.0</td>\n",
       "      <td>2.0</td>\n",
       "      <td>...</td>\n",
       "      <td>93146.0</td>\n",
       "      <td>2016.0</td>\n",
       "      <td>54446.0</td>\n",
       "      <td>1246.18</td>\n",
       "      <td>NaN</td>\n",
       "      <td>NaN</td>\n",
       "      <td>6.037276e+13</td>\n",
       "      <td>2229.0</td>\n",
       "      <td>0.054233</td>\n",
       "      <td>2017-01-11</td>\n",
       "    </tr>\n",
       "    <tr>\n",
       "      <th>4</th>\n",
       "      <td>12591550</td>\n",
       "      <td>8197</td>\n",
       "      <td>NaN</td>\n",
       "      <td>NaN</td>\n",
       "      <td>NaN</td>\n",
       "      <td>2.0</td>\n",
       "      <td>3.0</td>\n",
       "      <td>NaN</td>\n",
       "      <td>6.0</td>\n",
       "      <td>2.0</td>\n",
       "      <td>...</td>\n",
       "      <td>482242.0</td>\n",
       "      <td>2016.0</td>\n",
       "      <td>385591.0</td>\n",
       "      <td>6098.62</td>\n",
       "      <td>NaN</td>\n",
       "      <td>NaN</td>\n",
       "      <td>6.037544e+13</td>\n",
       "      <td>3038.0</td>\n",
       "      <td>-0.016170</td>\n",
       "      <td>2017-01-13</td>\n",
       "    </tr>\n",
       "    <tr>\n",
       "      <th>...</th>\n",
       "      <td>...</td>\n",
       "      <td>...</td>\n",
       "      <td>...</td>\n",
       "      <td>...</td>\n",
       "      <td>...</td>\n",
       "      <td>...</td>\n",
       "      <td>...</td>\n",
       "      <td>...</td>\n",
       "      <td>...</td>\n",
       "      <td>...</td>\n",
       "      <td>...</td>\n",
       "      <td>...</td>\n",
       "      <td>...</td>\n",
       "      <td>...</td>\n",
       "      <td>...</td>\n",
       "      <td>...</td>\n",
       "      <td>...</td>\n",
       "      <td>...</td>\n",
       "      <td>...</td>\n",
       "      <td>...</td>\n",
       "      <td>...</td>\n",
       "    </tr>\n",
       "    <tr>\n",
       "      <th>2152980</th>\n",
       "      <td>13915341</td>\n",
       "      <td>2982148</td>\n",
       "      <td>NaN</td>\n",
       "      <td>NaN</td>\n",
       "      <td>NaN</td>\n",
       "      <td>3.0</td>\n",
       "      <td>4.0</td>\n",
       "      <td>NaN</td>\n",
       "      <td>NaN</td>\n",
       "      <td>3.0</td>\n",
       "      <td>...</td>\n",
       "      <td>450941.0</td>\n",
       "      <td>2016.0</td>\n",
       "      <td>196326.0</td>\n",
       "      <td>5314.32</td>\n",
       "      <td>NaN</td>\n",
       "      <td>NaN</td>\n",
       "      <td>6.059087e+13</td>\n",
       "      <td>NaN</td>\n",
       "      <td>NaN</td>\n",
       "      <td>NaN</td>\n",
       "    </tr>\n",
       "    <tr>\n",
       "      <th>2152981</th>\n",
       "      <td>14360869</td>\n",
       "      <td>2982193</td>\n",
       "      <td>NaN</td>\n",
       "      <td>NaN</td>\n",
       "      <td>NaN</td>\n",
       "      <td>3.5</td>\n",
       "      <td>4.0</td>\n",
       "      <td>NaN</td>\n",
       "      <td>NaN</td>\n",
       "      <td>3.5</td>\n",
       "      <td>...</td>\n",
       "      <td>1409388.0</td>\n",
       "      <td>2016.0</td>\n",
       "      <td>849510.0</td>\n",
       "      <td>18909.38</td>\n",
       "      <td>NaN</td>\n",
       "      <td>NaN</td>\n",
       "      <td>6.059063e+13</td>\n",
       "      <td>71174.0</td>\n",
       "      <td>0.086432</td>\n",
       "      <td>2017-08-29</td>\n",
       "    </tr>\n",
       "    <tr>\n",
       "      <th>2152982</th>\n",
       "      <td>13952473</td>\n",
       "      <td>2982226</td>\n",
       "      <td>NaN</td>\n",
       "      <td>NaN</td>\n",
       "      <td>NaN</td>\n",
       "      <td>4.0</td>\n",
       "      <td>5.0</td>\n",
       "      <td>NaN</td>\n",
       "      <td>NaN</td>\n",
       "      <td>4.0</td>\n",
       "      <td>...</td>\n",
       "      <td>723838.0</td>\n",
       "      <td>2016.0</td>\n",
       "      <td>328384.0</td>\n",
       "      <td>8691.16</td>\n",
       "      <td>NaN</td>\n",
       "      <td>NaN</td>\n",
       "      <td>6.059089e+13</td>\n",
       "      <td>NaN</td>\n",
       "      <td>NaN</td>\n",
       "      <td>NaN</td>\n",
       "    </tr>\n",
       "    <tr>\n",
       "      <th>2152983</th>\n",
       "      <td>14367624</td>\n",
       "      <td>2982275</td>\n",
       "      <td>NaN</td>\n",
       "      <td>NaN</td>\n",
       "      <td>NaN</td>\n",
       "      <td>2.5</td>\n",
       "      <td>3.0</td>\n",
       "      <td>NaN</td>\n",
       "      <td>NaN</td>\n",
       "      <td>2.5</td>\n",
       "      <td>...</td>\n",
       "      <td>424353.0</td>\n",
       "      <td>2016.0</td>\n",
       "      <td>129441.0</td>\n",
       "      <td>5302.70</td>\n",
       "      <td>NaN</td>\n",
       "      <td>NaN</td>\n",
       "      <td>NaN</td>\n",
       "      <td>NaN</td>\n",
       "      <td>NaN</td>\n",
       "      <td>NaN</td>\n",
       "    </tr>\n",
       "    <tr>\n",
       "      <th>2152984</th>\n",
       "      <td>12385768</td>\n",
       "      <td>2982282</td>\n",
       "      <td>1.0</td>\n",
       "      <td>NaN</td>\n",
       "      <td>NaN</td>\n",
       "      <td>4.0</td>\n",
       "      <td>4.0</td>\n",
       "      <td>NaN</td>\n",
       "      <td>8.0</td>\n",
       "      <td>4.0</td>\n",
       "      <td>...</td>\n",
       "      <td>554009.0</td>\n",
       "      <td>2016.0</td>\n",
       "      <td>217461.0</td>\n",
       "      <td>6761.20</td>\n",
       "      <td>Y</td>\n",
       "      <td>15.0</td>\n",
       "      <td>NaN</td>\n",
       "      <td>NaN</td>\n",
       "      <td>NaN</td>\n",
       "      <td>NaN</td>\n",
       "    </tr>\n",
       "  </tbody>\n",
       "</table>\n",
       "<p>2152985 rows × 62 columns</p>\n",
       "</div>"
      ],
      "text/plain": [
       "         parcelid       id  airconditioningtypeid  architecturalstyletypeid  \\\n",
       "0        17173851      787                    NaN                       NaN   \n",
       "1        10821119     1702                    NaN                       NaN   \n",
       "2        11007640     2412                    1.0                       NaN   \n",
       "3        11457850     3770                    NaN                       NaN   \n",
       "4        12591550     8197                    NaN                       NaN   \n",
       "...           ...      ...                    ...                       ...   \n",
       "2152980  13915341  2982148                    NaN                       NaN   \n",
       "2152981  14360869  2982193                    NaN                       NaN   \n",
       "2152982  13952473  2982226                    NaN                       NaN   \n",
       "2152983  14367624  2982275                    NaN                       NaN   \n",
       "2152984  12385768  2982282                    1.0                       NaN   \n",
       "\n",
       "         basementsqft  bathroomcnt  bedroomcnt  buildingclasstypeid  \\\n",
       "0                 NaN          2.0         4.0                  NaN   \n",
       "1                 NaN          2.0         2.0                  NaN   \n",
       "2                 NaN          2.0         3.0                  NaN   \n",
       "3                 NaN          2.0         3.0                  NaN   \n",
       "4                 NaN          2.0         3.0                  NaN   \n",
       "...               ...          ...         ...                  ...   \n",
       "2152980           NaN          3.0         4.0                  NaN   \n",
       "2152981           NaN          3.5         4.0                  NaN   \n",
       "2152982           NaN          4.0         5.0                  NaN   \n",
       "2152983           NaN          2.5         3.0                  NaN   \n",
       "2152984           NaN          4.0         4.0                  NaN   \n",
       "\n",
       "         buildingqualitytypeid  calculatedbathnbr  ...  taxvaluedollarcnt  \\\n",
       "0                          NaN                2.0  ...            64712.0   \n",
       "1                          6.0                2.0  ...           381638.0   \n",
       "2                          8.0                2.0  ...           305307.0   \n",
       "3                          6.0                2.0  ...            93146.0   \n",
       "4                          6.0                2.0  ...           482242.0   \n",
       "...                        ...                ...  ...                ...   \n",
       "2152980                    NaN                3.0  ...           450941.0   \n",
       "2152981                    NaN                3.5  ...          1409388.0   \n",
       "2152982                    NaN                4.0  ...           723838.0   \n",
       "2152983                    NaN                2.5  ...           424353.0   \n",
       "2152984                    8.0                4.0  ...           554009.0   \n",
       "\n",
       "         assessmentyear  landtaxvaluedollarcnt  taxamount  taxdelinquencyflag  \\\n",
       "0                2016.0                17519.0     781.00                 NaN   \n",
       "1                2016.0               274127.0    4692.27                 NaN   \n",
       "2                2016.0               160505.0    3887.80                 NaN   \n",
       "3                2016.0                54446.0    1246.18                 NaN   \n",
       "4                2016.0               385591.0    6098.62                 NaN   \n",
       "...                 ...                    ...        ...                 ...   \n",
       "2152980          2016.0               196326.0    5314.32                 NaN   \n",
       "2152981          2016.0               849510.0   18909.38                 NaN   \n",
       "2152982          2016.0               328384.0    8691.16                 NaN   \n",
       "2152983          2016.0               129441.0    5302.70                 NaN   \n",
       "2152984          2016.0               217461.0    6761.20                   Y   \n",
       "\n",
       "         taxdelinquencyyear  censustractandblock     id.1  logerror  \\\n",
       "0                       NaN         6.111004e+13    389.0  0.088469   \n",
       "1                       NaN         6.037131e+13    402.0  0.025629   \n",
       "2                       NaN         6.037106e+13   2699.0  0.020360   \n",
       "3                       NaN         6.037276e+13   2229.0  0.054233   \n",
       "4                       NaN         6.037544e+13   3038.0 -0.016170   \n",
       "...                     ...                  ...      ...       ...   \n",
       "2152980                 NaN         6.059087e+13      NaN       NaN   \n",
       "2152981                 NaN         6.059063e+13  71174.0  0.086432   \n",
       "2152982                 NaN         6.059089e+13      NaN       NaN   \n",
       "2152983                 NaN                  NaN      NaN       NaN   \n",
       "2152984                15.0                  NaN      NaN       NaN   \n",
       "\n",
       "         transactiondate  \n",
       "0             2017-01-03  \n",
       "1             2017-01-03  \n",
       "2             2017-01-12  \n",
       "3             2017-01-11  \n",
       "4             2017-01-13  \n",
       "...                  ...  \n",
       "2152980              NaN  \n",
       "2152981       2017-08-29  \n",
       "2152982              NaN  \n",
       "2152983              NaN  \n",
       "2152984              NaN  \n",
       "\n",
       "[2152985 rows x 62 columns]"
      ]
     },
     "execution_count": 7,
     "metadata": {},
     "output_type": "execute_result"
    }
   ],
   "source": [
    "original_zillow_df_copy"
   ]
  },
  {
   "cell_type": "code",
   "execution_count": 8,
   "id": "2490ee0b",
   "metadata": {},
   "outputs": [
    {
     "data": {
      "text/html": [
       "<div>\n",
       "<style scoped>\n",
       "    .dataframe tbody tr th:only-of-type {\n",
       "        vertical-align: middle;\n",
       "    }\n",
       "\n",
       "    .dataframe tbody tr th {\n",
       "        vertical-align: top;\n",
       "    }\n",
       "\n",
       "    .dataframe thead th {\n",
       "        text-align: right;\n",
       "    }\n",
       "</style>\n",
       "<table border=\"1\" class=\"dataframe\">\n",
       "  <thead>\n",
       "    <tr style=\"text-align: right;\">\n",
       "      <th></th>\n",
       "      <th>parcelid</th>\n",
       "      <th>id</th>\n",
       "      <th>airconditioningtypeid</th>\n",
       "      <th>architecturalstyletypeid</th>\n",
       "      <th>basementsqft</th>\n",
       "      <th>bathroomcnt</th>\n",
       "      <th>bedroomcnt</th>\n",
       "      <th>buildingclasstypeid</th>\n",
       "      <th>buildingqualitytypeid</th>\n",
       "      <th>calculatedbathnbr</th>\n",
       "      <th>...</th>\n",
       "      <th>taxvaluedollarcnt</th>\n",
       "      <th>assessmentyear</th>\n",
       "      <th>landtaxvaluedollarcnt</th>\n",
       "      <th>taxamount</th>\n",
       "      <th>taxdelinquencyflag</th>\n",
       "      <th>taxdelinquencyyear</th>\n",
       "      <th>censustractandblock</th>\n",
       "      <th>id.1</th>\n",
       "      <th>logerror</th>\n",
       "      <th>transactiondate</th>\n",
       "    </tr>\n",
       "  </thead>\n",
       "  <tbody>\n",
       "    <tr>\n",
       "      <th>0</th>\n",
       "      <td>17173851</td>\n",
       "      <td>787</td>\n",
       "      <td>NaN</td>\n",
       "      <td>NaN</td>\n",
       "      <td>NaN</td>\n",
       "      <td>2.0</td>\n",
       "      <td>4.0</td>\n",
       "      <td>NaN</td>\n",
       "      <td>NaN</td>\n",
       "      <td>2.0</td>\n",
       "      <td>...</td>\n",
       "      <td>64712.0</td>\n",
       "      <td>2016.0</td>\n",
       "      <td>17519.0</td>\n",
       "      <td>781.00</td>\n",
       "      <td>NaN</td>\n",
       "      <td>NaN</td>\n",
       "      <td>6.111004e+13</td>\n",
       "      <td>389.0</td>\n",
       "      <td>0.088469</td>\n",
       "      <td>2017-01-03</td>\n",
       "    </tr>\n",
       "    <tr>\n",
       "      <th>1</th>\n",
       "      <td>10821119</td>\n",
       "      <td>1702</td>\n",
       "      <td>NaN</td>\n",
       "      <td>NaN</td>\n",
       "      <td>NaN</td>\n",
       "      <td>2.0</td>\n",
       "      <td>2.0</td>\n",
       "      <td>NaN</td>\n",
       "      <td>6.0</td>\n",
       "      <td>2.0</td>\n",
       "      <td>...</td>\n",
       "      <td>381638.0</td>\n",
       "      <td>2016.0</td>\n",
       "      <td>274127.0</td>\n",
       "      <td>4692.27</td>\n",
       "      <td>NaN</td>\n",
       "      <td>NaN</td>\n",
       "      <td>6.037131e+13</td>\n",
       "      <td>402.0</td>\n",
       "      <td>0.025629</td>\n",
       "      <td>2017-01-03</td>\n",
       "    </tr>\n",
       "    <tr>\n",
       "      <th>2</th>\n",
       "      <td>11007640</td>\n",
       "      <td>2412</td>\n",
       "      <td>1.0</td>\n",
       "      <td>NaN</td>\n",
       "      <td>NaN</td>\n",
       "      <td>2.0</td>\n",
       "      <td>3.0</td>\n",
       "      <td>NaN</td>\n",
       "      <td>8.0</td>\n",
       "      <td>2.0</td>\n",
       "      <td>...</td>\n",
       "      <td>305307.0</td>\n",
       "      <td>2016.0</td>\n",
       "      <td>160505.0</td>\n",
       "      <td>3887.80</td>\n",
       "      <td>NaN</td>\n",
       "      <td>NaN</td>\n",
       "      <td>6.037106e+13</td>\n",
       "      <td>2699.0</td>\n",
       "      <td>0.020360</td>\n",
       "      <td>2017-01-12</td>\n",
       "    </tr>\n",
       "    <tr>\n",
       "      <th>3</th>\n",
       "      <td>11457850</td>\n",
       "      <td>3770</td>\n",
       "      <td>NaN</td>\n",
       "      <td>NaN</td>\n",
       "      <td>NaN</td>\n",
       "      <td>2.0</td>\n",
       "      <td>3.0</td>\n",
       "      <td>NaN</td>\n",
       "      <td>6.0</td>\n",
       "      <td>2.0</td>\n",
       "      <td>...</td>\n",
       "      <td>93146.0</td>\n",
       "      <td>2016.0</td>\n",
       "      <td>54446.0</td>\n",
       "      <td>1246.18</td>\n",
       "      <td>NaN</td>\n",
       "      <td>NaN</td>\n",
       "      <td>6.037276e+13</td>\n",
       "      <td>2229.0</td>\n",
       "      <td>0.054233</td>\n",
       "      <td>2017-01-11</td>\n",
       "    </tr>\n",
       "    <tr>\n",
       "      <th>4</th>\n",
       "      <td>12591550</td>\n",
       "      <td>8197</td>\n",
       "      <td>NaN</td>\n",
       "      <td>NaN</td>\n",
       "      <td>NaN</td>\n",
       "      <td>2.0</td>\n",
       "      <td>3.0</td>\n",
       "      <td>NaN</td>\n",
       "      <td>6.0</td>\n",
       "      <td>2.0</td>\n",
       "      <td>...</td>\n",
       "      <td>482242.0</td>\n",
       "      <td>2016.0</td>\n",
       "      <td>385591.0</td>\n",
       "      <td>6098.62</td>\n",
       "      <td>NaN</td>\n",
       "      <td>NaN</td>\n",
       "      <td>6.037544e+13</td>\n",
       "      <td>3038.0</td>\n",
       "      <td>-0.016170</td>\n",
       "      <td>2017-01-13</td>\n",
       "    </tr>\n",
       "  </tbody>\n",
       "</table>\n",
       "<p>5 rows × 62 columns</p>\n",
       "</div>"
      ],
      "text/plain": [
       "   parcelid    id  airconditioningtypeid  architecturalstyletypeid  \\\n",
       "0  17173851   787                    NaN                       NaN   \n",
       "1  10821119  1702                    NaN                       NaN   \n",
       "2  11007640  2412                    1.0                       NaN   \n",
       "3  11457850  3770                    NaN                       NaN   \n",
       "4  12591550  8197                    NaN                       NaN   \n",
       "\n",
       "   basementsqft  bathroomcnt  bedroomcnt  buildingclasstypeid  \\\n",
       "0           NaN          2.0         4.0                  NaN   \n",
       "1           NaN          2.0         2.0                  NaN   \n",
       "2           NaN          2.0         3.0                  NaN   \n",
       "3           NaN          2.0         3.0                  NaN   \n",
       "4           NaN          2.0         3.0                  NaN   \n",
       "\n",
       "   buildingqualitytypeid  calculatedbathnbr  ...  taxvaluedollarcnt  \\\n",
       "0                    NaN                2.0  ...            64712.0   \n",
       "1                    6.0                2.0  ...           381638.0   \n",
       "2                    8.0                2.0  ...           305307.0   \n",
       "3                    6.0                2.0  ...            93146.0   \n",
       "4                    6.0                2.0  ...           482242.0   \n",
       "\n",
       "   assessmentyear  landtaxvaluedollarcnt  taxamount  taxdelinquencyflag  \\\n",
       "0          2016.0                17519.0     781.00                 NaN   \n",
       "1          2016.0               274127.0    4692.27                 NaN   \n",
       "2          2016.0               160505.0    3887.80                 NaN   \n",
       "3          2016.0                54446.0    1246.18                 NaN   \n",
       "4          2016.0               385591.0    6098.62                 NaN   \n",
       "\n",
       "   taxdelinquencyyear  censustractandblock    id.1  logerror  transactiondate  \n",
       "0                 NaN         6.111004e+13   389.0  0.088469       2017-01-03  \n",
       "1                 NaN         6.037131e+13   402.0  0.025629       2017-01-03  \n",
       "2                 NaN         6.037106e+13  2699.0  0.020360       2017-01-12  \n",
       "3                 NaN         6.037276e+13  2229.0  0.054233       2017-01-11  \n",
       "4                 NaN         6.037544e+13  3038.0 -0.016170       2017-01-13  \n",
       "\n",
       "[5 rows x 62 columns]"
      ]
     },
     "execution_count": 8,
     "metadata": {},
     "output_type": "execute_result"
    }
   ],
   "source": [
    "zillow_df.head()"
   ]
  },
  {
   "cell_type": "code",
   "execution_count": 9,
   "id": "c949993f",
   "metadata": {},
   "outputs": [
    {
     "name": "stdout",
     "output_type": "stream",
     "text": [
      "<class 'pandas.core.frame.DataFrame'>\n",
      "Int64Index: 2152985 entries, 0 to 2152984\n",
      "Data columns (total 62 columns):\n",
      " #   Column                        Dtype  \n",
      "---  ------                        -----  \n",
      " 0   parcelid                      int64  \n",
      " 1   id                            int64  \n",
      " 2   airconditioningtypeid         float64\n",
      " 3   architecturalstyletypeid      float64\n",
      " 4   basementsqft                  float64\n",
      " 5   bathroomcnt                   float64\n",
      " 6   bedroomcnt                    float64\n",
      " 7   buildingclasstypeid           float64\n",
      " 8   buildingqualitytypeid         float64\n",
      " 9   calculatedbathnbr             float64\n",
      " 10  decktypeid                    float64\n",
      " 11  finishedfloor1squarefeet      float64\n",
      " 12  calculatedfinishedsquarefeet  float64\n",
      " 13  finishedsquarefeet12          float64\n",
      " 14  finishedsquarefeet13          float64\n",
      " 15  finishedsquarefeet15          float64\n",
      " 16  finishedsquarefeet50          float64\n",
      " 17  finishedsquarefeet6           float64\n",
      " 18  fips                          float64\n",
      " 19  fireplacecnt                  float64\n",
      " 20  fullbathcnt                   float64\n",
      " 21  garagecarcnt                  float64\n",
      " 22  garagetotalsqft               float64\n",
      " 23  hashottuborspa                float64\n",
      " 24  heatingorsystemtypeid         float64\n",
      " 25  latitude                      float64\n",
      " 26  longitude                     float64\n",
      " 27  lotsizesquarefeet             float64\n",
      " 28  poolcnt                       float64\n",
      " 29  poolsizesum                   float64\n",
      " 30  pooltypeid10                  float64\n",
      " 31  pooltypeid2                   float64\n",
      " 32  pooltypeid7                   float64\n",
      " 33  propertycountylandusecode     object \n",
      " 34  propertylandusetypeid         float64\n",
      " 35  propertyzoningdesc            object \n",
      " 36  rawcensustractandblock        float64\n",
      " 37  regionidcity                  float64\n",
      " 38  regionidcounty                float64\n",
      " 39  regionidneighborhood          float64\n",
      " 40  regionidzip                   float64\n",
      " 41  roomcnt                       float64\n",
      " 42  storytypeid                   float64\n",
      " 43  threequarterbathnbr           float64\n",
      " 44  typeconstructiontypeid        float64\n",
      " 45  unitcnt                       float64\n",
      " 46  yardbuildingsqft17            float64\n",
      " 47  yardbuildingsqft26            float64\n",
      " 48  yearbuilt                     float64\n",
      " 49  numberofstories               float64\n",
      " 50  fireplaceflag                 float64\n",
      " 51  structuretaxvaluedollarcnt    float64\n",
      " 52  taxvaluedollarcnt             float64\n",
      " 53  assessmentyear                float64\n",
      " 54  landtaxvaluedollarcnt         float64\n",
      " 55  taxamount                     float64\n",
      " 56  taxdelinquencyflag            object \n",
      " 57  taxdelinquencyyear            float64\n",
      " 58  censustractandblock           float64\n",
      " 59  id.1                          float64\n",
      " 60  logerror                      float64\n",
      " 61  transactiondate               object \n",
      "dtypes: float64(56), int64(2), object(4)\n",
      "memory usage: 1.0+ GB\n"
     ]
    }
   ],
   "source": [
    "zillow_df.info()"
   ]
  },
  {
   "cell_type": "code",
   "execution_count": 10,
   "id": "2595ac7b",
   "metadata": {},
   "outputs": [
    {
     "data": {
      "text/plain": [
       "parcelid                          0\n",
       "id                                0\n",
       "airconditioningtypeid       1639073\n",
       "architecturalstyletypeid    2150592\n",
       "basementsqft                2151447\n",
       "                             ...   \n",
       "taxdelinquencyyear          2111726\n",
       "censustractandblock           12322\n",
       "id.1                        2100543\n",
       "logerror                    2100543\n",
       "transactiondate             2100543\n",
       "Length: 62, dtype: int64"
      ]
     },
     "execution_count": 10,
     "metadata": {},
     "output_type": "execute_result"
    }
   ],
   "source": [
    "zillow_df.isnull().sum()"
   ]
  },
  {
   "cell_type": "code",
   "execution_count": 11,
   "id": "bc7ce1a8",
   "metadata": {},
   "outputs": [],
   "source": [
    "# Make a list of columns to drop:\n",
    "\n",
    "drop_columns = ['architecturalstyletypeid', 'buildingclasstypeid', 'buildingqualitytypeid', 'basementsqft', 'decktypeid', 'finishedfloor1squarefeet', 'finishedsquarefeet12', 'finishedsquarefeet13', 'finishedsquarefeet15', 'finishedsquarefeet50', 'finishedsquarefeet6', 'fireplacecnt', 'garagetotalsqft', 'hashottuborspa', 'poolcnt', 'poolsizesum', 'pooltypeid10', 'pooltypeid2', 'pooltypeid7', 'propertyzoningdesc', 'storytypeid', 'threequarterbathnbr', 'typeconstructiontypeid', 'yardbuildingsqft17', 'yardbuildingsqft26', 'numberofstories', 'fireplaceflag', 'taxamount', 'taxdelinquencyflag', 'taxdelinquencyyear']"
   ]
  },
  {
   "cell_type": "code",
   "execution_count": 12,
   "id": "5e939af6",
   "metadata": {},
   "outputs": [],
   "source": [
    "# Use these features for the 'MVP' model.\n",
    "orig_draft_features = ['landtaxvaluedollarcnt', 'calculatedfinishedsquarefeet', 'bedroomcnt', 'bathroomcnt']"
   ]
  },
  {
   "cell_type": "code",
   "execution_count": 13,
   "id": "fcb242b9",
   "metadata": {},
   "outputs": [],
   "source": [
    "orig_draft_features = zillow_df[orig_draft_features]"
   ]
  },
  {
   "cell_type": "code",
   "execution_count": 14,
   "id": "73b23061",
   "metadata": {},
   "outputs": [
    {
     "data": {
      "text/plain": [
       "landtaxvaluedollarcnt            502\n",
       "calculatedfinishedsquarefeet    8485\n",
       "bedroomcnt                        11\n",
       "bathroomcnt                       11\n",
       "dtype: int64"
      ]
     },
     "execution_count": 14,
     "metadata": {},
     "output_type": "execute_result"
    }
   ],
   "source": [
    "orig_draft_features.isnull().sum()"
   ]
  },
  {
   "cell_type": "markdown",
   "id": "f5c9d2a1",
   "metadata": {},
   "source": [
    "### Visualizing Distributions & Outliers"
   ]
  },
  {
   "cell_type": "code",
   "execution_count": 15,
   "id": "00761071",
   "metadata": {},
   "outputs": [],
   "source": [
    "# Renaming columns to make referencing easier.\n",
    "orig_draft_features = orig_draft_features.rename(columns = {'landtaxvaluedollarcnt':'tax_value', 'calculatedfinishedsquarefeet':'sqft','bedroomcnt':'bedrooms','bathroomcnt':'bathrooms'})"
   ]
  },
  {
   "cell_type": "code",
   "execution_count": 16,
   "id": "6b88ba72",
   "metadata": {},
   "outputs": [
    {
     "data": {
      "image/png": "[encoded data removed]",
      "text/plain": [
       "<Figure size 1152x216 with 4 Axes>"
      ]
     },
     "metadata": {
      "needs_background": "light"
     },
     "output_type": "display_data"
    }
   ],
   "source": [
    "# Visualize the distributions of the features.\n",
    "plt.figure(figsize=(16, 3))\n",
    "\n",
    "# List of columns\n",
    "cols = [col for col in orig_draft_features.columns]\n",
    "\n",
    "for i, col in enumerate(cols):\n",
    "\n",
    "    # i starts at 0, but plot nos should start at 1\n",
    "    plot_number = i + 1 \n",
    "\n",
    "    # Create subplot.\n",
    "    plt.subplot(1, len(cols), plot_number)\n",
    "\n",
    "    # Title with column name.\n",
    "    plt.title(col)\n",
    "\n",
    "    # Display histogram for column.\n",
    "    orig_draft_features[col].hist(bins=5)\n",
    "\n",
    "    # Hide gridlines.\n",
    "    plt.grid(False)\n",
    "    \n",
    "plt.show()"
   ]
  },
  {
   "cell_type": "markdown",
   "id": "7f941df1",
   "metadata": {},
   "source": [
    "#### Takeaways\n",
    "\n",
    "* Significant square footage outliers exist.\n",
    "* Similar outliers exist within the bedrooms and bathrooms columns."
   ]
  },
  {
   "cell_type": "code",
   "execution_count": 17,
   "id": "523944ef",
   "metadata": {},
   "outputs": [
    {
     "data": {
      "text/plain": [
       "<AxesSubplot:>"
      ]
     },
     "execution_count": 17,
     "metadata": {},
     "output_type": "execute_result"
    },
    {
     "data": {
      "image/png": "[encoded data removed]",
      "text/plain": [
       "<Figure size 432x288 with 1 Axes>"
      ]
     },
     "metadata": {
      "needs_background": "light"
     },
     "output_type": "display_data"
    }
   ],
   "source": [
    "# Looking at tax_value in closer detail\n",
    "orig_draft_features['tax_value'].hist(bins=100)"
   ]
  },
  {
   "cell_type": "markdown",
   "id": "e0c709d5",
   "metadata": {},
   "source": [
    "### Boxplots\n",
    "\n",
    "Boxplots are useful because they will naturally show outliers as black diamonds on the diagram."
   ]
  },
  {
   "cell_type": "code",
   "execution_count": 18,
   "id": "f99fe976",
   "metadata": {},
   "outputs": [
    {
     "data": {
      "image/png": "[encoded data removed]",
      "text/plain": [
       "<Figure size 576x288 with 1 Axes>"
      ]
     },
     "metadata": {
      "needs_background": "light"
     },
     "output_type": "display_data"
    }
   ],
   "source": [
    "plt.figure(figsize=(8,4))\n",
    "\n",
    "plt.ticklabel_format(useOffset=False, style='plain')\n",
    "sns.boxplot(data=orig_draft_features)\n",
    "\n",
    "plt.show()"
   ]
  },
  {
   "cell_type": "markdown",
   "id": "a7bd5719",
   "metadata": {},
   "source": [
    "### Takeaway\n",
    "\n",
    "* The tax value has such a severe outlier problem, it is making the chart unreadable.\n",
    "\n",
    "* I will try to make the charts bigger to see if visualization improves."
   ]
  },
  {
   "cell_type": "code",
   "execution_count": 19,
   "id": "201fdf04",
   "metadata": {},
   "outputs": [
    {
     "data": {
      "image/png": "[encoded data removed]",
      "text/plain": [
       "<Figure size 1152x1440 with 4 Axes>"
      ]
     },
     "metadata": {
      "needs_background": "light"
     },
     "output_type": "display_data"
    }
   ],
   "source": [
    "# List of columns\n",
    "cols = [col for col in orig_draft_features.columns]\n",
    "plt.figure(figsize=(16, 20))\n",
    "for i, col in enumerate(cols):\n",
    "\n",
    "    # i starts at 0, but plot nos should start at 1\n",
    "    plot_number = i + 1 \n",
    "\n",
    "    # Create subplot.\n",
    "    plt.subplot(1, len(cols), plot_number)\n",
    "\n",
    "    # Title with column name.\n",
    "    plt.title(col)\n",
    "\n",
    "    # Display boxplot for column.\n",
    "    sns.boxplot(data=orig_draft_features[col])\n",
    "\n",
    "    # Hide gridlines.\n",
    "    plt.grid(False)\n",
    "\n",
    "plt.show()"
   ]
  },
  {
   "cell_type": "markdown",
   "id": "fd1c3cab",
   "metadata": {},
   "source": [
    "What are the quartiles for these columns?"
   ]
  },
  {
   "cell_type": "code",
   "execution_count": 20,
   "id": "99f92277",
   "metadata": {},
   "outputs": [
    {
     "data": {
      "text/html": [
       "<div>\n",
       "<style scoped>\n",
       "    .dataframe tbody tr th:only-of-type {\n",
       "        vertical-align: middle;\n",
       "    }\n",
       "\n",
       "    .dataframe tbody tr th {\n",
       "        vertical-align: top;\n",
       "    }\n",
       "\n",
       "    .dataframe thead th {\n",
       "        text-align: right;\n",
       "    }\n",
       "</style>\n",
       "<table border=\"1\" class=\"dataframe\">\n",
       "  <thead>\n",
       "    <tr style=\"text-align: right;\">\n",
       "      <th></th>\n",
       "      <th>tax_value</th>\n",
       "      <th>sqft</th>\n",
       "      <th>bedrooms</th>\n",
       "      <th>bathrooms</th>\n",
       "    </tr>\n",
       "  </thead>\n",
       "  <tbody>\n",
       "    <tr>\n",
       "      <th>count</th>\n",
       "      <td>2.15248e+06</td>\n",
       "      <td>2.1445e+06</td>\n",
       "      <td>2.15297e+06</td>\n",
       "      <td>2.15297e+06</td>\n",
       "    </tr>\n",
       "    <tr>\n",
       "      <th>mean</th>\n",
       "      <td>283714</td>\n",
       "      <td>1862.85</td>\n",
       "      <td>3.28719</td>\n",
       "      <td>2.23068</td>\n",
       "    </tr>\n",
       "    <tr>\n",
       "      <th>std</th>\n",
       "      <td>502669</td>\n",
       "      <td>1222.12</td>\n",
       "      <td>0.954791</td>\n",
       "      <td>0.999279</td>\n",
       "    </tr>\n",
       "    <tr>\n",
       "      <th>min</th>\n",
       "      <td>1</td>\n",
       "      <td>1</td>\n",
       "      <td>0</td>\n",
       "      <td>0</td>\n",
       "    </tr>\n",
       "    <tr>\n",
       "      <th>25%</th>\n",
       "      <td>79667.5</td>\n",
       "      <td>1257</td>\n",
       "      <td>3</td>\n",
       "      <td>2</td>\n",
       "    </tr>\n",
       "    <tr>\n",
       "      <th>50%</th>\n",
       "      <td>183894</td>\n",
       "      <td>1623</td>\n",
       "      <td>3</td>\n",
       "      <td>2</td>\n",
       "    </tr>\n",
       "    <tr>\n",
       "      <th>75%</th>\n",
       "      <td>345279</td>\n",
       "      <td>2208</td>\n",
       "      <td>4</td>\n",
       "      <td>3</td>\n",
       "    </tr>\n",
       "    <tr>\n",
       "      <th>max</th>\n",
       "      <td>8.8922e+07</td>\n",
       "      <td>952576</td>\n",
       "      <td>25</td>\n",
       "      <td>32</td>\n",
       "    </tr>\n",
       "  </tbody>\n",
       "</table>\n",
       "</div>"
      ],
      "text/plain": [
       "         tax_value        sqft     bedrooms    bathrooms\n",
       "count  2.15248e+06  2.1445e+06  2.15297e+06  2.15297e+06\n",
       "mean        283714     1862.85      3.28719      2.23068\n",
       "std         502669     1222.12     0.954791     0.999279\n",
       "min              1           1            0            0\n",
       "25%        79667.5        1257            3            2\n",
       "50%         183894        1623            3            2\n",
       "75%         345279        2208            4            3\n",
       "max     8.8922e+07      952576           25           32"
      ]
     },
     "execution_count": 20,
     "metadata": {},
     "output_type": "execute_result"
    }
   ],
   "source": [
    "orig_draft_features.describe().apply(lambda s: s.apply(lambda x: format(x, 'g')))"
   ]
  },
  {
   "cell_type": "markdown",
   "id": "97519729",
   "metadata": {},
   "source": [
    "### Takeaways\n",
    "\n",
    "* Too many outliers.\n",
    "* The MVP will focus on home values closer to the median so it will be okay to remove high value homes.\n",
    "* Removing these records may also help to reduce the amount of null values we have."
   ]
  },
  {
   "cell_type": "code",
   "execution_count": 21,
   "id": "ce99631d",
   "metadata": {},
   "outputs": [],
   "source": [
    "# This function removes outliers.\n",
    "def remove_outliers(df, k, col_list):\n",
    "    ''' remove outliers from a list of columns in a dataframe \n",
    "        and return that dataframe\n",
    "    '''\n",
    "    \n",
    "    for col in col_list:\n",
    "\n",
    "        q1, q3 = df[col].quantile([.25, .75])  # get quartiles\n",
    "        \n",
    "        iqr = q3 - q1   # calculate interquartile range\n",
    "        \n",
    "        upper_bound = q3 + k * iqr   # get upper bound\n",
    "        lower_bound = q1 - k * iqr   # get lower bound\n",
    "\n",
    "        # return dataframe without outliers\n",
    "        \n",
    "        df = df[(df[col] > lower_bound) & (df[col] < upper_bound)]\n",
    "        \n",
    "    return df"
   ]
  },
  {
   "cell_type": "code",
   "execution_count": 22,
   "id": "9d0bf8af",
   "metadata": {},
   "outputs": [],
   "source": [
    "# Run the function and store results in a variable.\n",
    "orig_draft_features = remove_outliers(orig_draft_features, 1.5, ['tax_value', 'sqft', 'bedrooms', 'bathrooms'])"
   ]
  },
  {
   "cell_type": "markdown",
   "id": "f37e1355",
   "metadata": {},
   "source": [
    "### Revisualize Distributions"
   ]
  },
  {
   "cell_type": "code",
   "execution_count": 23,
   "id": "2acc5d5c",
   "metadata": {},
   "outputs": [
    {
     "data": {
      "image/png": "[encoded data removed]",
      "text/plain": [
       "<Figure size 1152x216 with 4 Axes>"
      ]
     },
     "metadata": {
      "needs_background": "light"
     },
     "output_type": "display_data"
    }
   ],
   "source": [
    "# After removing outliers replot the distributions.\n",
    "\n",
    "plt.figure(figsize=(16, 3))\n",
    "\n",
    "# List of columns\n",
    "cols = [col for col in orig_draft_features.columns]\n",
    "\n",
    "for i, col in enumerate(cols):\n",
    "\n",
    "    # i starts at 0, but plot nos should start at 1\n",
    "    plot_number = i + 1 \n",
    "\n",
    "    # Create subplot.\n",
    "    plt.subplot(1, len(cols), plot_number)\n",
    "\n",
    "    # Title with column name.\n",
    "    plt.title(col)\n",
    "\n",
    "    # Display histogram for column.\n",
    "    orig_draft_features[col].hist(bins=5)\n",
    "\n",
    "    # Hide gridlines.\n",
    "    plt.grid(False)\n",
    "    \n",
    "plt.show()"
   ]
  },
  {
   "cell_type": "markdown",
   "id": "396de1cf",
   "metadata": {},
   "source": [
    "### Takeaways\n",
    "\n",
    "* Tax_value is right skewed.\n",
    "* Bedrooms and bathrooms are not normally distributed.\n",
    "* Square footage is approaching a normal distrubtion."
   ]
  },
  {
   "cell_type": "code",
   "execution_count": 24,
   "id": "ebc3d9af",
   "metadata": {},
   "outputs": [
    {
     "data": {
      "image/png": "[encoded data removed]",
      "text/plain": [
       "<Figure size 1152x1440 with 4 Axes>"
      ]
     },
     "metadata": {
      "needs_background": "light"
     },
     "output_type": "display_data"
    }
   ],
   "source": [
    "# View boxplots.\n",
    "cols = [col for col in orig_draft_features.columns]\n",
    "plt.figure(figsize=(16, 20))\n",
    "for i, col in enumerate(cols):\n",
    "\n",
    "    # i starts at 0, but plot nos should start at 1\n",
    "    plot_number = i + 1 \n",
    "\n",
    "    # Create subplot.\n",
    "    plt.subplot(1, len(cols), plot_number)\n",
    "\n",
    "    # Title with column name.\n",
    "    plt.title(col)\n",
    "\n",
    "    # Display boxplot for column.\n",
    "    sns.boxplot(data=orig_draft_features[col])\n",
    "\n",
    "    # Hide gridlines.\n",
    "    plt.grid(False)\n",
    "\n",
    "plt.show()"
   ]
  },
  {
   "cell_type": "markdown",
   "id": "173b7292",
   "metadata": {},
   "source": [
    "### Takeaways\n",
    "\n",
    "* Still a few outliers despite the relatively restrictive 1.5 * IQR setting for the upper/lower boundary.\n",
    "* No need to remove these outliers."
   ]
  },
  {
   "cell_type": "markdown",
   "id": "ad0b6dcc",
   "metadata": {},
   "source": [
    "### How do the null values look now?"
   ]
  },
  {
   "cell_type": "code",
   "execution_count": 25,
   "id": "2bbe2005",
   "metadata": {},
   "outputs": [
    {
     "data": {
      "text/plain": [
       "tax_value    0\n",
       "sqft         0\n",
       "bedrooms     0\n",
       "bathrooms    0\n",
       "dtype: int64"
      ]
     },
     "execution_count": 25,
     "metadata": {},
     "output_type": "execute_result"
    }
   ],
   "source": [
    "orig_draft_features.isnull().sum()"
   ]
  },
  {
   "cell_type": "markdown",
   "id": "95c3e40c",
   "metadata": {},
   "source": [
    "### Are the column data types correct?"
   ]
  },
  {
   "cell_type": "code",
   "execution_count": 26,
   "id": "76037881",
   "metadata": {},
   "outputs": [
    {
     "name": "stdout",
     "output_type": "stream",
     "text": [
      "<class 'pandas.core.frame.DataFrame'>\n",
      "Int64Index: 1459648 entries, 0 to 2152983\n",
      "Data columns (total 4 columns):\n",
      " #   Column     Non-Null Count    Dtype  \n",
      "---  ------     --------------    -----  \n",
      " 0   tax_value  1459648 non-null  float64\n",
      " 1   sqft       1459648 non-null  float64\n",
      " 2   bedrooms   1459648 non-null  float64\n",
      " 3   bathrooms  1459648 non-null  float64\n",
      "dtypes: float64(4)\n",
      "memory usage: 55.7 MB\n"
     ]
    }
   ],
   "source": [
    "orig_draft_features.info()"
   ]
  },
  {
   "cell_type": "markdown",
   "id": "fc4443bf",
   "metadata": {},
   "source": [
    "### Split the data"
   ]
  },
  {
   "cell_type": "code",
   "execution_count": 27,
   "id": "b236c43c",
   "metadata": {},
   "outputs": [],
   "source": [
    "train_validate, test = train_test_split(orig_draft_features, test_size=.2, random_state=123)\n",
    "train, validate = train_test_split(train_validate, test_size=.3, random_state=123)"
   ]
  },
  {
   "cell_type": "code",
   "execution_count": 28,
   "id": "cd2883cb",
   "metadata": {},
   "outputs": [
    {
     "name": "stdout",
     "output_type": "stream",
     "text": [
      "<class 'pandas.core.frame.DataFrame'>\n",
      "Int64Index: 817402 entries, 457147 to 1912728\n",
      "Data columns (total 4 columns):\n",
      " #   Column     Non-Null Count   Dtype  \n",
      "---  ------     --------------   -----  \n",
      " 0   tax_value  817402 non-null  float64\n",
      " 1   sqft       817402 non-null  float64\n",
      " 2   bedrooms   817402 non-null  float64\n",
      " 3   bathrooms  817402 non-null  float64\n",
      "dtypes: float64(4)\n",
      "memory usage: 31.2 MB\n",
      "<class 'pandas.core.frame.DataFrame'>\n",
      "Int64Index: 350316 entries, 1035103 to 1219106\n",
      "Data columns (total 4 columns):\n",
      " #   Column     Non-Null Count   Dtype  \n",
      "---  ------     --------------   -----  \n",
      " 0   tax_value  350316 non-null  float64\n",
      " 1   sqft       350316 non-null  float64\n",
      " 2   bedrooms   350316 non-null  float64\n",
      " 3   bathrooms  350316 non-null  float64\n",
      "dtypes: float64(4)\n",
      "memory usage: 13.4 MB\n",
      "<class 'pandas.core.frame.DataFrame'>\n",
      "Int64Index: 291930 entries, 276690 to 1006044\n",
      "Data columns (total 4 columns):\n",
      " #   Column     Non-Null Count   Dtype  \n",
      "---  ------     --------------   -----  \n",
      " 0   tax_value  291930 non-null  float64\n",
      " 1   sqft       291930 non-null  float64\n",
      " 2   bedrooms   291930 non-null  float64\n",
      " 3   bathrooms  291930 non-null  float64\n",
      "dtypes: float64(4)\n",
      "memory usage: 11.1 MB\n"
     ]
    },
    {
     "data": {
      "text/plain": [
       "(None, None, None)"
      ]
     },
     "execution_count": 28,
     "metadata": {},
     "output_type": "execute_result"
    }
   ],
   "source": [
    "train.info(), validate.info(), test.info()"
   ]
  },
  {
   "cell_type": "markdown",
   "id": "7b23efec",
   "metadata": {},
   "source": [
    "### Use the 'Min-Max Scaler' to scale the independent variables."
   ]
  },
  {
   "cell_type": "code",
   "execution_count": 29,
   "id": "78ee3d45",
   "metadata": {},
   "outputs": [],
   "source": [
    "# 1. create the object\n",
    "scaler = sklearn.preprocessing.MinMaxScaler()\n",
    "\n",
    "# 2. fit the object (learn the min and max value)\n",
    "scaler.fit(train[['sqft', 'bedrooms', 'bathrooms']])\n",
    "\n",
    "# 3. use the object (use the min, max to do the transformation)\n",
    "scaled_features = scaler.transform(train[['sqft', 'bedrooms', 'bathrooms']])"
   ]
  },
  {
   "cell_type": "code",
   "execution_count": 30,
   "id": "2da6a9a4",
   "metadata": {},
   "outputs": [],
   "source": [
    "# assign the scaled values as new columns in the train\n",
    "train[['sqft_scaled', 'bedrooms_scaled', 'bathrooms_scaled']] = scaled_features"
   ]
  },
  {
   "cell_type": "code",
   "execution_count": 31,
   "id": "6c2948de",
   "metadata": {},
   "outputs": [
    {
     "data": {
      "text/html": [
       "<div>\n",
       "<style scoped>\n",
       "    .dataframe tbody tr th:only-of-type {\n",
       "        vertical-align: middle;\n",
       "    }\n",
       "\n",
       "    .dataframe tbody tr th {\n",
       "        vertical-align: top;\n",
       "    }\n",
       "\n",
       "    .dataframe thead th {\n",
       "        text-align: right;\n",
       "    }\n",
       "</style>\n",
       "<table border=\"1\" class=\"dataframe\">\n",
       "  <thead>\n",
       "    <tr style=\"text-align: right;\">\n",
       "      <th></th>\n",
       "      <th>tax_value</th>\n",
       "      <th>sqft</th>\n",
       "      <th>bedrooms</th>\n",
       "      <th>bathrooms</th>\n",
       "      <th>sqft_scaled</th>\n",
       "      <th>bedrooms_scaled</th>\n",
       "      <th>bathrooms_scaled</th>\n",
       "    </tr>\n",
       "  </thead>\n",
       "  <tbody>\n",
       "    <tr>\n",
       "      <th>457147</th>\n",
       "      <td>32798.0</td>\n",
       "      <td>1746.0</td>\n",
       "      <td>3.0</td>\n",
       "      <td>2.0</td>\n",
       "      <td>0.509649</td>\n",
       "      <td>0.333333</td>\n",
       "      <td>0.333333</td>\n",
       "    </tr>\n",
       "    <tr>\n",
       "      <th>1920997</th>\n",
       "      <td>177850.0</td>\n",
       "      <td>1721.0</td>\n",
       "      <td>3.0</td>\n",
       "      <td>2.0</td>\n",
       "      <td>0.502339</td>\n",
       "      <td>0.333333</td>\n",
       "      <td>0.333333</td>\n",
       "    </tr>\n",
       "    <tr>\n",
       "      <th>164850</th>\n",
       "      <td>16522.0</td>\n",
       "      <td>1717.0</td>\n",
       "      <td>4.0</td>\n",
       "      <td>2.0</td>\n",
       "      <td>0.501170</td>\n",
       "      <td>0.666667</td>\n",
       "      <td>0.333333</td>\n",
       "    </tr>\n",
       "    <tr>\n",
       "      <th>476789</th>\n",
       "      <td>323127.0</td>\n",
       "      <td>1428.0</td>\n",
       "      <td>3.0</td>\n",
       "      <td>2.0</td>\n",
       "      <td>0.416667</td>\n",
       "      <td>0.333333</td>\n",
       "      <td>0.333333</td>\n",
       "    </tr>\n",
       "    <tr>\n",
       "      <th>684808</th>\n",
       "      <td>263808.0</td>\n",
       "      <td>2136.0</td>\n",
       "      <td>3.0</td>\n",
       "      <td>2.0</td>\n",
       "      <td>0.623684</td>\n",
       "      <td>0.333333</td>\n",
       "      <td>0.333333</td>\n",
       "    </tr>\n",
       "  </tbody>\n",
       "</table>\n",
       "</div>"
      ],
      "text/plain": [
       "         tax_value    sqft  bedrooms  bathrooms  sqft_scaled  bedrooms_scaled  \\\n",
       "457147     32798.0  1746.0       3.0        2.0     0.509649         0.333333   \n",
       "1920997   177850.0  1721.0       3.0        2.0     0.502339         0.333333   \n",
       "164850     16522.0  1717.0       4.0        2.0     0.501170         0.666667   \n",
       "476789    323127.0  1428.0       3.0        2.0     0.416667         0.333333   \n",
       "684808    263808.0  2136.0       3.0        2.0     0.623684         0.333333   \n",
       "\n",
       "         bathrooms_scaled  \n",
       "457147           0.333333  \n",
       "1920997          0.333333  \n",
       "164850           0.333333  \n",
       "476789           0.333333  \n",
       "684808           0.333333  "
      ]
     },
     "execution_count": 31,
     "metadata": {},
     "output_type": "execute_result"
    }
   ],
   "source": [
    "train.head()"
   ]
  },
  {
   "cell_type": "code",
   "execution_count": 32,
   "id": "f8dc98c6",
   "metadata": {},
   "outputs": [
    {
     "data": {
      "text/html": [
       "<div>\n",
       "<style scoped>\n",
       "    .dataframe tbody tr th:only-of-type {\n",
       "        vertical-align: middle;\n",
       "    }\n",
       "\n",
       "    .dataframe tbody tr th {\n",
       "        vertical-align: top;\n",
       "    }\n",
       "\n",
       "    .dataframe thead th {\n",
       "        text-align: right;\n",
       "    }\n",
       "</style>\n",
       "<table border=\"1\" class=\"dataframe\">\n",
       "  <thead>\n",
       "    <tr style=\"text-align: right;\">\n",
       "      <th></th>\n",
       "      <th>tax_value</th>\n",
       "      <th>sqft</th>\n",
       "      <th>bedrooms</th>\n",
       "      <th>bathrooms</th>\n",
       "    </tr>\n",
       "  </thead>\n",
       "  <tbody>\n",
       "    <tr>\n",
       "      <th>1035103</th>\n",
       "      <td>366460.0</td>\n",
       "      <td>1709.0</td>\n",
       "      <td>3.0</td>\n",
       "      <td>2.0</td>\n",
       "    </tr>\n",
       "    <tr>\n",
       "      <th>87116</th>\n",
       "      <td>18000.0</td>\n",
       "      <td>1134.0</td>\n",
       "      <td>3.0</td>\n",
       "      <td>2.0</td>\n",
       "    </tr>\n",
       "    <tr>\n",
       "      <th>1908524</th>\n",
       "      <td>327120.0</td>\n",
       "      <td>2224.0</td>\n",
       "      <td>3.0</td>\n",
       "      <td>2.0</td>\n",
       "    </tr>\n",
       "    <tr>\n",
       "      <th>311138</th>\n",
       "      <td>52790.0</td>\n",
       "      <td>1663.0</td>\n",
       "      <td>4.0</td>\n",
       "      <td>2.0</td>\n",
       "    </tr>\n",
       "    <tr>\n",
       "      <th>1788615</th>\n",
       "      <td>68097.0</td>\n",
       "      <td>1527.0</td>\n",
       "      <td>4.0</td>\n",
       "      <td>3.0</td>\n",
       "    </tr>\n",
       "  </tbody>\n",
       "</table>\n",
       "</div>"
      ],
      "text/plain": [
       "         tax_value    sqft  bedrooms  bathrooms\n",
       "1035103   366460.0  1709.0       3.0        2.0\n",
       "87116      18000.0  1134.0       3.0        2.0\n",
       "1908524   327120.0  2224.0       3.0        2.0\n",
       "311138     52790.0  1663.0       4.0        2.0\n",
       "1788615    68097.0  1527.0       4.0        3.0"
      ]
     },
     "execution_count": 32,
     "metadata": {},
     "output_type": "execute_result"
    }
   ],
   "source": [
    "validate.head()"
   ]
  },
  {
   "cell_type": "code",
   "execution_count": 33,
   "id": "4daaaf5e",
   "metadata": {},
   "outputs": [],
   "source": [
    "# make new scaled columns for validate and test (transform only)\n",
    "\n",
    "test[['sqft_scaled', 'bedrooms_scaled', 'bathrooms_scaled']] = scaler.transform(test[['sqft', 'bedrooms', 'bathrooms']])\n",
    "validate[['sqft_scaled', 'bedrooms_scaled', 'bathrooms_scaled']] = scaler.transform(validate[['sqft', 'bedrooms', 'bathrooms']])"
   ]
  },
  {
   "cell_type": "markdown",
   "id": "043f79c7",
   "metadata": {},
   "source": [
    "### Implementation"
   ]
  },
  {
   "cell_type": "code",
   "execution_count": 34,
   "id": "91af49a6",
   "metadata": {},
   "outputs": [],
   "source": [
    "def add_scaled_columns(train, validate, test, scaler, columns_to_scale):\n",
    "    \n",
    "    # new column names\n",
    "    new_column_names = [c + '_scaled' for c in columns_to_scale]\n",
    "    \n",
    "    # Fit the scaler on the train\n",
    "    scaler.fit(train[columns_to_scale])\n",
    "    \n",
    "    # transform train validate and test\n",
    "    train = pd.concat([\n",
    "        train,\n",
    "        pd.DataFrame(scaler.transform(train[columns_to_scale]), columns=new_column_names, index=train.index),\n",
    "    ], axis=1)\n",
    "    \n",
    "    validate = pd.concat([\n",
    "        validate,\n",
    "        pd.DataFrame(scaler.transform(validate[columns_to_scale]), columns=new_column_names, index=validate.index),\n",
    "    ], axis=1)\n",
    "    \n",
    "    \n",
    "    test = pd.concat([\n",
    "        test,\n",
    "        pd.DataFrame(scaler.transform(test[columns_to_scale]), columns=new_column_names, index=test.index),\n",
    "    ], axis=1)\n",
    "    \n",
    "    return train, validate, test"
   ]
  },
  {
   "cell_type": "markdown",
   "id": "92e24cd6",
   "metadata": {},
   "source": [
    "### Can I predict the land tax value of a home based on square footage?\n",
    "\n",
    "x = square footage\n",
    "y = tax value"
   ]
  },
  {
   "cell_type": "markdown",
   "id": "638bf3cd",
   "metadata": {},
   "source": [
    "## Look at scatter of square footage vs tax value"
   ]
  },
  {
   "cell_type": "code",
   "execution_count": 35,
   "id": "7bd49322",
   "metadata": {},
   "outputs": [
    {
     "data": {
      "image/png": "[encoded data removed]",
      "text/plain": [
       "<Figure size 432x288 with 1 Axes>"
      ]
     },
     "metadata": {
      "needs_background": "light"
     },
     "output_type": "display_data"
    }
   ],
   "source": [
    "plt.scatter(orig_draft_features.sqft, orig_draft_features.tax_value)\n",
    "plt.xlabel('x =  square footage')\n",
    "plt.ylabel('y = tax value');"
   ]
  },
  {
   "cell_type": "markdown",
   "id": "1f1466c6",
   "metadata": {},
   "source": [
    "### Create a baseline prediction."
   ]
  },
  {
   "cell_type": "code",
   "execution_count": 36,
   "id": "4d0201f8",
   "metadata": {},
   "outputs": [],
   "source": [
    "baseline = orig_draft_features.tax_value.mean()"
   ]
  },
  {
   "cell_type": "code",
   "execution_count": 37,
   "id": "657b194a",
   "metadata": {},
   "outputs": [],
   "source": [
    "# My baseline is the mean of tax_value\n",
    "orig_draft_features['baseline'] = baseline"
   ]
  },
  {
   "cell_type": "code",
   "execution_count": 38,
   "id": "20e8b27a",
   "metadata": {},
   "outputs": [
    {
     "data": {
      "text/html": [
       "<div>\n",
       "<style scoped>\n",
       "    .dataframe tbody tr th:only-of-type {\n",
       "        vertical-align: middle;\n",
       "    }\n",
       "\n",
       "    .dataframe tbody tr th {\n",
       "        vertical-align: top;\n",
       "    }\n",
       "\n",
       "    .dataframe thead th {\n",
       "        text-align: right;\n",
       "    }\n",
       "</style>\n",
       "<table border=\"1\" class=\"dataframe\">\n",
       "  <thead>\n",
       "    <tr style=\"text-align: right;\">\n",
       "      <th></th>\n",
       "      <th>tax_value</th>\n",
       "      <th>sqft</th>\n",
       "      <th>bedrooms</th>\n",
       "      <th>bathrooms</th>\n",
       "      <th>baseline</th>\n",
       "    </tr>\n",
       "  </thead>\n",
       "  <tbody>\n",
       "    <tr>\n",
       "      <th>0</th>\n",
       "      <td>17519.0</td>\n",
       "      <td>1848.0</td>\n",
       "      <td>4.0</td>\n",
       "      <td>2.0</td>\n",
       "      <td>212256.338282</td>\n",
       "    </tr>\n",
       "    <tr>\n",
       "      <th>1</th>\n",
       "      <td>274127.0</td>\n",
       "      <td>1430.0</td>\n",
       "      <td>2.0</td>\n",
       "      <td>2.0</td>\n",
       "      <td>212256.338282</td>\n",
       "    </tr>\n",
       "    <tr>\n",
       "      <th>2</th>\n",
       "      <td>160505.0</td>\n",
       "      <td>1572.0</td>\n",
       "      <td>3.0</td>\n",
       "      <td>2.0</td>\n",
       "      <td>212256.338282</td>\n",
       "    </tr>\n",
       "    <tr>\n",
       "      <th>3</th>\n",
       "      <td>54446.0</td>\n",
       "      <td>1412.0</td>\n",
       "      <td>3.0</td>\n",
       "      <td>2.0</td>\n",
       "      <td>212256.338282</td>\n",
       "    </tr>\n",
       "    <tr>\n",
       "      <th>4</th>\n",
       "      <td>385591.0</td>\n",
       "      <td>1352.0</td>\n",
       "      <td>3.0</td>\n",
       "      <td>2.0</td>\n",
       "      <td>212256.338282</td>\n",
       "    </tr>\n",
       "  </tbody>\n",
       "</table>\n",
       "</div>"
      ],
      "text/plain": [
       "   tax_value    sqft  bedrooms  bathrooms       baseline\n",
       "0    17519.0  1848.0       4.0        2.0  212256.338282\n",
       "1   274127.0  1430.0       2.0        2.0  212256.338282\n",
       "2   160505.0  1572.0       3.0        2.0  212256.338282\n",
       "3    54446.0  1412.0       3.0        2.0  212256.338282\n",
       "4   385591.0  1352.0       3.0        2.0  212256.338282"
      ]
     },
     "execution_count": 38,
     "metadata": {},
     "output_type": "execute_result"
    }
   ],
   "source": [
    "orig_draft_features.head()"
   ]
  },
  {
   "cell_type": "code",
   "execution_count": 39,
   "id": "7ec5d994",
   "metadata": {},
   "outputs": [
    {
     "data": {
      "image/png": "[encoded data removed]",
      "text/plain": [
       "<Figure size 432x288 with 1 Axes>"
      ]
     },
     "metadata": {
      "needs_background": "light"
     },
     "output_type": "display_data"
    }
   ],
   "source": [
    "# plot data with baseline:\n",
    "\n",
    "plt.scatter(orig_draft_features.sqft, orig_draft_features.tax_value)\n",
    "plt.axhline(baseline, ls = ':', color='orange')\n",
    "plt.xlabel('x =  square footage')\n",
    "plt.ylabel('y = tax value');"
   ]
  },
  {
   "cell_type": "code",
   "execution_count": 40,
   "id": "d546b5ea",
   "metadata": {},
   "outputs": [
    {
     "data": {
      "image/png": "[encoded data removed]",
      "text/plain": [
       "<Figure size 1152x216 with 5 Axes>"
      ]
     },
     "metadata": {
      "needs_background": "light"
     },
     "output_type": "display_data"
    }
   ],
   "source": [
    "plt.figure(figsize=(16, 3))\n",
    "\n",
    "# List of columns\n",
    "cols = [col for col in orig_draft_features.columns]\n",
    "\n",
    "for i, col in enumerate(cols):\n",
    "\n",
    "    # i starts at 0, but plot nos should start at 1\n",
    "    plot_number = i + 1 \n",
    "\n",
    "    # Create subplot.\n",
    "    plt.subplot(1, len(cols), plot_number)\n",
    "\n",
    "    # Title with column name.\n",
    "    plt.title(col)\n",
    "\n",
    "    # Display scatterplot for column.\n",
    "    plt.scatter(orig_draft_features[col], orig_draft_features.tax_value)\n",
    "    plt.axhline(baseline, ls = ':', color='orange')\n",
    "    plt.xlabel('x =  ')\n",
    "    plt.ylabel('y = tax value');\n",
    "\n",
    "    # Hide gridlines.\n",
    "    plt.grid(False)\n",
    "    \n",
    "plt.show()"
   ]
  },
  {
   "cell_type": "code",
   "execution_count": 41,
   "id": "a7a5ddbe",
   "metadata": {},
   "outputs": [
    {
     "name": "stdout",
     "output_type": "stream",
     "text": [
      "<class 'pandas.core.frame.DataFrame'>\n",
      "Int64Index: 817402 entries, 457147 to 1912728\n",
      "Data columns (total 6 columns):\n",
      " #   Column            Non-Null Count   Dtype  \n",
      "---  ------            --------------   -----  \n",
      " 0   sqft              817402 non-null  float64\n",
      " 1   bedrooms          817402 non-null  float64\n",
      " 2   bathrooms         817402 non-null  float64\n",
      " 3   sqft_scaled       817402 non-null  float64\n",
      " 4   bedrooms_scaled   817402 non-null  float64\n",
      " 5   bathrooms_scaled  817402 non-null  float64\n",
      "dtypes: float64(6)\n",
      "memory usage: 43.7 MB\n"
     ]
    }
   ],
   "source": [
    "target = \"tax_value\"\n",
    "\n",
    "# split train into X (dataframe, drop target) & y (series, keep target only)\n",
    "X_train = train.drop(columns=[target])\n",
    "y_train = train[target]\n",
    "\n",
    "# split validate into X (dataframe, drop target) & y (series, keep target only)\n",
    "X_validate = validate.drop(columns=[target])\n",
    "y_validate = validate[target]\n",
    "\n",
    "# split test into X (dataframe, drop target) & y (series, keep target only)\n",
    "X_test = test.drop(columns=[target])\n",
    "y_test = test[target]\n",
    "\n",
    "X_train.info()"
   ]
  },
  {
   "cell_type": "code",
   "execution_count": null,
   "id": "ce3eac8f",
   "metadata": {},
   "outputs": [],
   "source": []
  },
  {
   "cell_type": "code",
   "execution_count": 42,
   "id": "39622fa9",
   "metadata": {},
   "outputs": [],
   "source": [
    "X_train_scaled = X_train.drop(columns=['sqft','bedrooms','bathrooms'])\n",
    "X_validate_scaled = X_validate.drop(columns=['sqft','bedrooms','bathrooms'])\n",
    "X_test_scaled = X_test.drop(columns=['sqft','bedrooms','bathrooms'])"
   ]
  },
  {
   "cell_type": "code",
   "execution_count": 43,
   "id": "8cda757e",
   "metadata": {},
   "outputs": [
    {
     "data": {
      "text/html": [
       "<div>\n",
       "<style scoped>\n",
       "    .dataframe tbody tr th:only-of-type {\n",
       "        vertical-align: middle;\n",
       "    }\n",
       "\n",
       "    .dataframe tbody tr th {\n",
       "        vertical-align: top;\n",
       "    }\n",
       "\n",
       "    .dataframe thead th {\n",
       "        text-align: right;\n",
       "    }\n",
       "</style>\n",
       "<table border=\"1\" class=\"dataframe\">\n",
       "  <thead>\n",
       "    <tr style=\"text-align: right;\">\n",
       "      <th></th>\n",
       "      <th>sqft_scaled</th>\n",
       "      <th>bedrooms_scaled</th>\n",
       "      <th>bathrooms_scaled</th>\n",
       "    </tr>\n",
       "  </thead>\n",
       "  <tbody>\n",
       "    <tr>\n",
       "      <th>276690</th>\n",
       "      <td>0.539766</td>\n",
       "      <td>0.666667</td>\n",
       "      <td>0.333333</td>\n",
       "    </tr>\n",
       "    <tr>\n",
       "      <th>103956</th>\n",
       "      <td>0.753509</td>\n",
       "      <td>0.666667</td>\n",
       "      <td>1.000000</td>\n",
       "    </tr>\n",
       "    <tr>\n",
       "      <th>1961388</th>\n",
       "      <td>0.554971</td>\n",
       "      <td>0.666667</td>\n",
       "      <td>0.333333</td>\n",
       "    </tr>\n",
       "    <tr>\n",
       "      <th>1632933</th>\n",
       "      <td>0.504386</td>\n",
       "      <td>0.333333</td>\n",
       "      <td>0.333333</td>\n",
       "    </tr>\n",
       "    <tr>\n",
       "      <th>1791407</th>\n",
       "      <td>0.485088</td>\n",
       "      <td>0.666667</td>\n",
       "      <td>0.333333</td>\n",
       "    </tr>\n",
       "    <tr>\n",
       "      <th>...</th>\n",
       "      <td>...</td>\n",
       "      <td>...</td>\n",
       "      <td>...</td>\n",
       "    </tr>\n",
       "    <tr>\n",
       "      <th>1097509</th>\n",
       "      <td>0.280994</td>\n",
       "      <td>0.000000</td>\n",
       "      <td>0.333333</td>\n",
       "    </tr>\n",
       "    <tr>\n",
       "      <th>1172284</th>\n",
       "      <td>0.463743</td>\n",
       "      <td>0.333333</td>\n",
       "      <td>0.333333</td>\n",
       "    </tr>\n",
       "    <tr>\n",
       "      <th>1761130</th>\n",
       "      <td>0.442105</td>\n",
       "      <td>0.333333</td>\n",
       "      <td>0.333333</td>\n",
       "    </tr>\n",
       "    <tr>\n",
       "      <th>1268000</th>\n",
       "      <td>0.543567</td>\n",
       "      <td>0.000000</td>\n",
       "      <td>0.333333</td>\n",
       "    </tr>\n",
       "    <tr>\n",
       "      <th>1006044</th>\n",
       "      <td>0.380117</td>\n",
       "      <td>0.000000</td>\n",
       "      <td>0.333333</td>\n",
       "    </tr>\n",
       "  </tbody>\n",
       "</table>\n",
       "<p>291930 rows × 3 columns</p>\n",
       "</div>"
      ],
      "text/plain": [
       "         sqft_scaled  bedrooms_scaled  bathrooms_scaled\n",
       "276690      0.539766         0.666667          0.333333\n",
       "103956      0.753509         0.666667          1.000000\n",
       "1961388     0.554971         0.666667          0.333333\n",
       "1632933     0.504386         0.333333          0.333333\n",
       "1791407     0.485088         0.666667          0.333333\n",
       "...              ...              ...               ...\n",
       "1097509     0.280994         0.000000          0.333333\n",
       "1172284     0.463743         0.333333          0.333333\n",
       "1761130     0.442105         0.333333          0.333333\n",
       "1268000     0.543567         0.000000          0.333333\n",
       "1006044     0.380117         0.000000          0.333333\n",
       "\n",
       "[291930 rows x 3 columns]"
      ]
     },
     "execution_count": 43,
     "metadata": {},
     "output_type": "execute_result"
    }
   ],
   "source": [
    "X_test_scaled"
   ]
  },
  {
   "cell_type": "code",
   "execution_count": 44,
   "id": "381e0c08",
   "metadata": {},
   "outputs": [],
   "source": [
    "# modeling methods\n",
    "from sklearn.metrics import mean_squared_error\n",
    "from sklearn.linear_model import LinearRegression, LassoLars, TweedieRegressor\n",
    "from sklearn.preprocessing import PolynomialFeatures\n",
    "from sklearn.metrics import explained_variance_score\n",
    "import warnings\n",
    "warnings.filterwarnings(\"ignore\")"
   ]
  },
  {
   "cell_type": "code",
   "execution_count": 45,
   "id": "13d91156",
   "metadata": {},
   "outputs": [],
   "source": [
    "# Write a function named select_kbest that takes in the predictors (X), the target (y), and the number of features to select (k) and returns the names of the top k selected features based on the SelectKBest class. Test your function with the tips dataset. You should see the same results as when you did the process manually.\n",
    "\n",
    "def select_kbest(X, y, k):\n",
    "    # make the object\n",
    "    kbest = sklearn.feature_selection.SelectKBest(sklearn.feature_selection.f_regression, k=k)\n",
    "\n",
    "    # fit the object\n",
    "    kbest.fit(X, y)\n",
    "    \n",
    "    # use the object (.get_support() is that array of booleans to filter the list of column names)\n",
    "    return X.columns[kbest.get_support()].tolist()"
   ]
  },
  {
   "cell_type": "code",
   "execution_count": 46,
   "id": "2267161e",
   "metadata": {},
   "outputs": [
    {
     "data": {
      "text/plain": [
       "['sqft_scaled', 'bathrooms_scaled']"
      ]
     },
     "execution_count": 46,
     "metadata": {},
     "output_type": "execute_result"
    }
   ],
   "source": [
    "# Find the top 2 features using kbest\n",
    "select_kbest(X_train_scaled, y_train, 2)"
   ]
  },
  {
   "cell_type": "code",
   "execution_count": 47,
   "id": "a9b88b63",
   "metadata": {},
   "outputs": [],
   "source": [
    "def show_features_rankings(X_train, rfe):\n",
    "    \"\"\"\n",
    "    Takes in a dataframe and a fit RFE object in order to output the rank of all features\n",
    "    \"\"\"\n",
    "    # rfe here is reference rfe from cell 15\n",
    "    var_ranks = rfe.ranking_\n",
    "    var_names = X_train.columns.tolist()\n",
    "    ranks = pd.DataFrame({'Var': var_names, 'Rank': var_ranks})\n",
    "    ranks = ranks.sort_values(by=\"Rank\", ascending=True)\n",
    "    return ranks"
   ]
  },
  {
   "cell_type": "code",
   "execution_count": 48,
   "id": "d0fdd66f",
   "metadata": {},
   "outputs": [],
   "source": [
    "# Write a function named rfe that takes in the predictors, the target, and the number of features to select. It should return the top k features based on the RFE class. \n",
    "\n",
    "def select_rfe(X, y, k):\n",
    "    # make the thing\n",
    "    lm = sklearn.linear_model.LinearRegression()\n",
    "    rfe = sklearn.feature_selection.RFE(lm, n_features_to_select=k)\n",
    "\n",
    "    # Fit the thing\n",
    "    rfe.fit(X, y)\n",
    "    \n",
    "    # use the thing\n",
    "    features_to_use = X.columns[rfe.support_].tolist()\n",
    "    \n",
    "    # we need to send show_feature_rankings a trained/fit RFE object\n",
    "    all_rankings = show_features_rankings(X, rfe)\n",
    "    \n",
    "    return features_to_use, all_rankings"
   ]
  },
  {
   "cell_type": "code",
   "execution_count": 49,
   "id": "bc7aeecf",
   "metadata": {},
   "outputs": [
    {
     "data": {
      "text/plain": [
       "(['sqft_scaled', 'bedrooms_scaled'],\n",
       "                 Var  Rank\n",
       " 0       sqft_scaled     1\n",
       " 1   bedrooms_scaled     1\n",
       " 2  bathrooms_scaled     2)"
      ]
     },
     "execution_count": 49,
     "metadata": {},
     "output_type": "execute_result"
    }
   ],
   "source": [
    "select_rfe(X_train_scaled, y_train, 2)"
   ]
  },
  {
   "cell_type": "code",
   "execution_count": 50,
   "id": "49a44e78",
   "metadata": {},
   "outputs": [],
   "source": [
    "# We need y_train and y_validate to be dataframes to append the new columns with predicted values. \n",
    "y_train = pd.DataFrame(y_train)\n",
    "y_validate = pd.DataFrame(y_validate)"
   ]
  },
  {
   "cell_type": "code",
   "execution_count": 51,
   "id": "d2b6dceb",
   "metadata": {},
   "outputs": [],
   "source": [
    "# 1. Predict tax_value mean\n",
    "tax_value_mean = baseline\n",
    "y_train['tax_value_mean'] = baseline\n",
    "y_validate['tax_value_mean'] = baseline"
   ]
  },
  {
   "cell_type": "code",
   "execution_count": 52,
   "id": "db9be370",
   "metadata": {},
   "outputs": [],
   "source": [
    "# 2. compute tax_value median\n",
    "tax_value_median = y_train.tax_value.median()\n",
    "y_train['tax_value_median'] = tax_value_median\n",
    "y_validate['tax_value_median'] = tax_value_median"
   ]
  },
  {
   "cell_type": "code",
   "execution_count": 53,
   "id": "3e8d4c0c",
   "metadata": {},
   "outputs": [],
   "source": [
    "# 3. RMSE of tax_value_mean\n",
    "rmse_train = mean_squared_error(y_train.tax_value,\n",
    "                                y_train.tax_value_mean) ** .5\n",
    "rmse_validate = mean_squared_error(y_validate.tax_value, y_validate.tax_value_mean) ** (0.5)"
   ]
  },
  {
   "cell_type": "code",
   "execution_count": 54,
   "id": "e701f33e",
   "metadata": {},
   "outputs": [
    {
     "name": "stdout",
     "output_type": "stream",
     "text": [
      "RMSE using Mean\n",
      "Train/In-Sample:  167162.43 \n",
      "Validate/Out-of-Sample:  167387.77\n"
     ]
    }
   ],
   "source": [
    "print(\"RMSE using Mean\\nTrain/In-Sample: \", round(rmse_train, 2), \n",
    "      \"\\nValidate/Out-of-Sample: \", round(rmse_validate, 2))"
   ]
  },
  {
   "cell_type": "code",
   "execution_count": 90,
   "id": "293bf9bf",
   "metadata": {},
   "outputs": [
    {
     "name": "stdout",
     "output_type": "stream",
     "text": [
      "RMSE using Median\n",
      "Train/In-Sample:  171862.64 \n",
      "Validate/Out-of-Sample:  172026.37\n"
     ]
    }
   ],
   "source": [
    "# 4. RMSE of tax_value_pred_median\n",
    "rmse_train = mean_squared_error(y_train.tax_value, y_train.tax_value_median) ** .5\n",
    "rmse_validate = mean_squared_error(y_validate.tax_value, y_validate.tax_value_median) ** (0.5)\n",
    "print(\"RMSE using Median\\nTrain/In-Sample: \", round(rmse_train, 2), \n",
    "      \"\\nValidate/Out-of-Sample: \", round(rmse_validate, 2))"
   ]
  },
  {
   "cell_type": "markdown",
   "id": "93ff5a7a",
   "metadata": {},
   "source": [
    "### Build a dataframe for comparison of our metrics for model selection for ease of reflection.\n"
   ]
  },
  {
   "cell_type": "code",
   "execution_count": 56,
   "id": "f87dec67",
   "metadata": {},
   "outputs": [],
   "source": [
    "metric_df = pd.DataFrame(data=[\n",
    "            {\n",
    "                'model': 'mean_baseline', \n",
    "                'RMSE_train': rmse_train,\n",
    "                'RMSE_validate': rmse_validate\n",
    "                }\n",
    "            ])"
   ]
  },
  {
   "cell_type": "code",
   "execution_count": 57,
   "id": "127057cc",
   "metadata": {},
   "outputs": [
    {
     "data": {
      "text/html": [
       "<div>\n",
       "<style scoped>\n",
       "    .dataframe tbody tr th:only-of-type {\n",
       "        vertical-align: middle;\n",
       "    }\n",
       "\n",
       "    .dataframe tbody tr th {\n",
       "        vertical-align: top;\n",
       "    }\n",
       "\n",
       "    .dataframe thead th {\n",
       "        text-align: right;\n",
       "    }\n",
       "</style>\n",
       "<table border=\"1\" class=\"dataframe\">\n",
       "  <thead>\n",
       "    <tr style=\"text-align: right;\">\n",
       "      <th></th>\n",
       "      <th>model</th>\n",
       "      <th>RMSE_train</th>\n",
       "      <th>RMSE_validate</th>\n",
       "    </tr>\n",
       "  </thead>\n",
       "  <tbody>\n",
       "    <tr>\n",
       "      <th>0</th>\n",
       "      <td>mean_baseline</td>\n",
       "      <td>167162.430722</td>\n",
       "      <td>167387.767193</td>\n",
       "    </tr>\n",
       "  </tbody>\n",
       "</table>\n",
       "</div>"
      ],
      "text/plain": [
       "           model     RMSE_train  RMSE_validate\n",
       "0  mean_baseline  167162.430722  167387.767193"
      ]
     },
     "execution_count": 57,
     "metadata": {},
     "output_type": "execute_result"
    }
   ],
   "source": [
    "metric_df"
   ]
  },
  {
   "cell_type": "code",
   "execution_count": 58,
   "id": "850207df",
   "metadata": {},
   "outputs": [
    {
     "name": "stdout",
     "output_type": "stream",
     "text": [
      "<class 'pandas.core.frame.DataFrame'>\n",
      "Int64Index: 817402 entries, 457147 to 1912728\n",
      "Data columns (total 3 columns):\n",
      " #   Column            Non-Null Count   Dtype  \n",
      "---  ------            --------------   -----  \n",
      " 0   tax_value         817402 non-null  float64\n",
      " 1   tax_value_mean    817402 non-null  float64\n",
      " 2   tax_value_median  817402 non-null  float64\n",
      "dtypes: float64(3)\n",
      "memory usage: 24.9 MB\n"
     ]
    }
   ],
   "source": [
    "y_train.info()"
   ]
  },
  {
   "cell_type": "code",
   "execution_count": 91,
   "id": "3aaaa936",
   "metadata": {},
   "outputs": [
    {
     "data": {
      "image/png": "[encoded data removed]",
      "text/plain": [
       "<Figure size 432x288 with 1 Axes>"
      ]
     },
     "metadata": {
      "needs_background": "light"
     },
     "output_type": "display_data"
    }
   ],
   "source": [
    "# plot to visualize actual vs predicted. \n",
    "plt.hist(y_train.tax_value, color='blue', alpha=.5, label=\"Actual Tax Value\")\n",
    "plt.hist(y_train.tax_value_mean, color='yellow', alpha=.5, label=\"Predicted Tax Value - Mean\")\n",
    "# plt.hist(y_train.tax_value_pred_median, bins=1, color='orange', alpha=.5, label=\"Predicted Final Grades - Median\")\n",
    "plt.xlabel(\"Tax Value\")\n",
    "plt.ylabel(\"Number of Homes\")\n",
    "plt.legend()\n",
    "plt.show()"
   ]
  },
  {
   "cell_type": "markdown",
   "id": "f71f9952",
   "metadata": {},
   "source": [
    "### LinearRegression (OLS)\n",
    "\n",
    "Fit the model using X_train (scaled) and the labels from y_train.\n",
    "\n",
    "Predict tax value for homes in training sample using our model (lm).\n",
    "\n",
    "Evaluate using RMSE\n",
    "\n",
    "Repeat predictions and evaluation for validation.\n",
    "\n",
    "Compare RMSE train vs. validation. Overfitting?"
   ]
  },
  {
   "cell_type": "code",
   "execution_count": 60,
   "id": "fec5e830",
   "metadata": {},
   "outputs": [
    {
     "name": "stdout",
     "output_type": "stream",
     "text": [
      "<class 'pandas.core.frame.DataFrame'>\n",
      "Int64Index: 817402 entries, 457147 to 1912728\n",
      "Data columns (total 3 columns):\n",
      " #   Column            Non-Null Count   Dtype  \n",
      "---  ------            --------------   -----  \n",
      " 0   sqft_scaled       817402 non-null  float64\n",
      " 1   bedrooms_scaled   817402 non-null  float64\n",
      " 2   bathrooms_scaled  817402 non-null  float64\n",
      "dtypes: float64(3)\n",
      "memory usage: 24.9 MB\n"
     ]
    }
   ],
   "source": [
    "X_train_scaled.info()"
   ]
  },
  {
   "cell_type": "code",
   "execution_count": 61,
   "id": "022a98eb",
   "metadata": {},
   "outputs": [
    {
     "name": "stdout",
     "output_type": "stream",
     "text": [
      "<class 'pandas.core.frame.DataFrame'>\n",
      "Int64Index: 817402 entries, 457147 to 1912728\n",
      "Data columns (total 3 columns):\n",
      " #   Column            Non-Null Count   Dtype  \n",
      "---  ------            --------------   -----  \n",
      " 0   tax_value         817402 non-null  float64\n",
      " 1   tax_value_mean    817402 non-null  float64\n",
      " 2   tax_value_median  817402 non-null  float64\n",
      "dtypes: float64(3)\n",
      "memory usage: 24.9 MB\n"
     ]
    }
   ],
   "source": [
    "y_train.info()"
   ]
  },
  {
   "cell_type": "code",
   "execution_count": 62,
   "id": "c389b66c",
   "metadata": {},
   "outputs": [],
   "source": [
    "# create the model object\n",
    "\n",
    "# make the thing\n",
    "\n",
    "lm = LinearRegression()"
   ]
  },
  {
   "cell_type": "code",
   "execution_count": 63,
   "id": "a07f47b0",
   "metadata": {},
   "outputs": [
    {
     "data": {
      "text/plain": [
       "LinearRegression()"
      ]
     },
     "execution_count": 63,
     "metadata": {},
     "output_type": "execute_result"
    }
   ],
   "source": [
    "# fit the model to our training data. We must specify the column in y_train, \n",
    "# since we have converted it to a dataframe from a series! \n",
    "# \n",
    "# fit the thing\n",
    "# \n",
    "lm.fit(X_train_scaled, y_train.tax_value)"
   ]
  },
  {
   "cell_type": "code",
   "execution_count": 64,
   "id": "3836a8a3",
   "metadata": {},
   "outputs": [],
   "source": [
    "# predict train\n",
    "# \n",
    "# use the thing!\n",
    "# \n",
    "y_train['tax_value_pred_lm'] = lm.predict(X_train_scaled)"
   ]
  },
  {
   "cell_type": "code",
   "execution_count": 65,
   "id": "ce2cf8c1",
   "metadata": {},
   "outputs": [
    {
     "data": {
      "text/html": [
       "<div>\n",
       "<style scoped>\n",
       "    .dataframe tbody tr th:only-of-type {\n",
       "        vertical-align: middle;\n",
       "    }\n",
       "\n",
       "    .dataframe tbody tr th {\n",
       "        vertical-align: top;\n",
       "    }\n",
       "\n",
       "    .dataframe thead th {\n",
       "        text-align: right;\n",
       "    }\n",
       "</style>\n",
       "<table border=\"1\" class=\"dataframe\">\n",
       "  <thead>\n",
       "    <tr style=\"text-align: right;\">\n",
       "      <th></th>\n",
       "      <th>tax_value</th>\n",
       "      <th>tax_value_mean</th>\n",
       "      <th>tax_value_median</th>\n",
       "      <th>tax_value_pred_lm</th>\n",
       "    </tr>\n",
       "  </thead>\n",
       "  <tbody>\n",
       "    <tr>\n",
       "      <th>457147</th>\n",
       "      <td>32798.0</td>\n",
       "      <td>212256.338282</td>\n",
       "      <td>172382.0</td>\n",
       "      <td>216752.210761</td>\n",
       "    </tr>\n",
       "    <tr>\n",
       "      <th>1920997</th>\n",
       "      <td>177850.0</td>\n",
       "      <td>212256.338282</td>\n",
       "      <td>172382.0</td>\n",
       "      <td>214858.723632</td>\n",
       "    </tr>\n",
       "    <tr>\n",
       "      <th>164850</th>\n",
       "      <td>16522.0</td>\n",
       "      <td>212256.338282</td>\n",
       "      <td>172382.0</td>\n",
       "      <td>191776.350460</td>\n",
       "    </tr>\n",
       "    <tr>\n",
       "      <th>476789</th>\n",
       "      <td>323127.0</td>\n",
       "      <td>212256.338282</td>\n",
       "      <td>172382.0</td>\n",
       "      <td>192667.054480</td>\n",
       "    </tr>\n",
       "    <tr>\n",
       "      <th>684808</th>\n",
       "      <td>263808.0</td>\n",
       "      <td>212256.338282</td>\n",
       "      <td>172382.0</td>\n",
       "      <td>246290.609973</td>\n",
       "    </tr>\n",
       "  </tbody>\n",
       "</table>\n",
       "</div>"
      ],
      "text/plain": [
       "         tax_value  tax_value_mean  tax_value_median  tax_value_pred_lm\n",
       "457147     32798.0   212256.338282          172382.0      216752.210761\n",
       "1920997   177850.0   212256.338282          172382.0      214858.723632\n",
       "164850     16522.0   212256.338282          172382.0      191776.350460\n",
       "476789    323127.0   212256.338282          172382.0      192667.054480\n",
       "684808    263808.0   212256.338282          172382.0      246290.609973"
      ]
     },
     "execution_count": 65,
     "metadata": {},
     "output_type": "execute_result"
    }
   ],
   "source": [
    "y_train.head()"
   ]
  },
  {
   "cell_type": "code",
   "execution_count": 66,
   "id": "1939c9d6",
   "metadata": {},
   "outputs": [
    {
     "name": "stdout",
     "output_type": "stream",
     "text": [
      "RMSE for OLS using LinearRegression\n",
      "Training/In-Sample:  163271.41242134752 \n",
      "Validation/Out-of-Sample:  163511.516044357\n"
     ]
    }
   ],
   "source": [
    "# evaluate: rmse\n",
    "rmse_train = mean_squared_error(y_train.tax_value, y_train.tax_value_pred_lm) ** (1/2)\n",
    "\n",
    "# predict validate\n",
    "y_validate['tax_value_pred_lm'] = lm.predict(X_validate_scaled)\n",
    "\n",
    "# evaluate: rmse\n",
    "rmse_validate = mean_squared_error(y_validate.tax_value, y_validate.tax_value_pred_lm) ** (1/2)\n",
    "\n",
    "print(\"RMSE for OLS using LinearRegression\\nTraining/In-Sample: \", rmse_train, \n",
    "      \"\\nValidation/Out-of-Sample: \", rmse_validate)"
   ]
  },
  {
   "cell_type": "code",
   "execution_count": 67,
   "id": "e7fbc58f",
   "metadata": {},
   "outputs": [],
   "source": [
    "metric_df = metric_df.append({\n",
    "    'model': 'OLS Regressor', \n",
    "    'RMSE_train': rmse_train,\n",
    "    'RMSE_validate': rmse_validate,\n",
    "    }, ignore_index=True)"
   ]
  },
  {
   "cell_type": "code",
   "execution_count": 68,
   "id": "b193fc42",
   "metadata": {},
   "outputs": [
    {
     "data": {
      "text/html": [
       "<div>\n",
       "<style scoped>\n",
       "    .dataframe tbody tr th:only-of-type {\n",
       "        vertical-align: middle;\n",
       "    }\n",
       "\n",
       "    .dataframe tbody tr th {\n",
       "        vertical-align: top;\n",
       "    }\n",
       "\n",
       "    .dataframe thead th {\n",
       "        text-align: right;\n",
       "    }\n",
       "</style>\n",
       "<table border=\"1\" class=\"dataframe\">\n",
       "  <thead>\n",
       "    <tr style=\"text-align: right;\">\n",
       "      <th></th>\n",
       "      <th>model</th>\n",
       "      <th>RMSE_train</th>\n",
       "      <th>RMSE_validate</th>\n",
       "    </tr>\n",
       "  </thead>\n",
       "  <tbody>\n",
       "    <tr>\n",
       "      <th>0</th>\n",
       "      <td>mean_baseline</td>\n",
       "      <td>167162.430722</td>\n",
       "      <td>167387.767193</td>\n",
       "    </tr>\n",
       "    <tr>\n",
       "      <th>1</th>\n",
       "      <td>OLS Regressor</td>\n",
       "      <td>163271.412421</td>\n",
       "      <td>163511.516044</td>\n",
       "    </tr>\n",
       "  </tbody>\n",
       "</table>\n",
       "</div>"
      ],
      "text/plain": [
       "           model     RMSE_train  RMSE_validate\n",
       "0  mean_baseline  167162.430722  167387.767193\n",
       "1  OLS Regressor  163271.412421  163511.516044"
      ]
     },
     "execution_count": 68,
     "metadata": {},
     "output_type": "execute_result"
    }
   ],
   "source": [
    "metric_df"
   ]
  },
  {
   "cell_type": "markdown",
   "id": "b584b379",
   "metadata": {},
   "source": [
    "### LassoLars\n",
    "\n",
    "Fit the model using X_train (scaled) and the labels from y_train.\n",
    "\n",
    "Predict tax value for homes in training sample using our model (lars).\n",
    "\n",
    "Evaluate using RMSE\n",
    "\n",
    "Repeat predictions and evaluation for validation.\n",
    "\n",
    "Compare RMSE train vs. validation. Overfitting?"
   ]
  },
  {
   "cell_type": "code",
   "execution_count": 69,
   "id": "c2f4691a",
   "metadata": {},
   "outputs": [
    {
     "name": "stdout",
     "output_type": "stream",
     "text": [
      "RMSE for Lasso + Lars\n",
      "Training/In-Sample:  163281.48963920702 \n",
      "Validation/Out-of-Sample:  163521.78278414372 \n",
      "Difference:  240.29314493670245\n"
     ]
    }
   ],
   "source": [
    "# create the model object\n",
    "lars = LassoLars(alpha=1)\n",
    "\n",
    "# fit the model to our training data. We must specify the column in y_train, \n",
    "# since we have converted it to a dataframe from a series!\n",
    "lars.fit(X_train_scaled, y_train.tax_value)\n",
    "\n",
    "# predict train\n",
    "y_train['tax_value_pred_lars'] = lars.predict(X_train_scaled)\n",
    "\n",
    "# evaluate: rmse\n",
    "rmse_train = mean_squared_error(y_train.tax_value, y_train.tax_value_pred_lars) ** (1/2)\n",
    "\n",
    "# predict validate\n",
    "y_validate['tax_value_pred_lars'] = lars.predict(X_validate_scaled)\n",
    "\n",
    "# evaluate: rmse\n",
    "rmse_validate = mean_squared_error(y_validate.tax_value, y_validate.tax_value_pred_lars) ** (1/2)\n",
    "\n",
    "print(\"RMSE for Lasso + Lars\\nTraining/In-Sample: \", rmse_train, \n",
    "      \"\\nValidation/Out-of-Sample: \", rmse_validate,\n",
    "     \"\\nDifference: \", rmse_validate - rmse_train)"
   ]
  },
  {
   "cell_type": "code",
   "execution_count": 70,
   "id": "1583ee47",
   "metadata": {},
   "outputs": [
    {
     "data": {
      "text/plain": [
       "array([251418.26752431, -61027.51527059,   2805.62685605])"
      ]
     },
     "execution_count": 70,
     "metadata": {},
     "output_type": "execute_result"
    }
   ],
   "source": [
    "lars.coef_"
   ]
  },
  {
   "cell_type": "code",
   "execution_count": 71,
   "id": "03f6a30a",
   "metadata": {},
   "outputs": [],
   "source": [
    "metric_df = metric_df.append({\n",
    "    'model': 'lasso_alpha0.1', \n",
    "    'RMSE_train': rmse_train,\n",
    "    'RMSE_validate': rmse_validate,\n",
    "    }, ignore_index=True)"
   ]
  },
  {
   "cell_type": "code",
   "execution_count": 72,
   "id": "8fb56198",
   "metadata": {},
   "outputs": [
    {
     "data": {
      "text/html": [
       "<div>\n",
       "<style scoped>\n",
       "    .dataframe tbody tr th:only-of-type {\n",
       "        vertical-align: middle;\n",
       "    }\n",
       "\n",
       "    .dataframe tbody tr th {\n",
       "        vertical-align: top;\n",
       "    }\n",
       "\n",
       "    .dataframe thead th {\n",
       "        text-align: right;\n",
       "    }\n",
       "</style>\n",
       "<table border=\"1\" class=\"dataframe\">\n",
       "  <thead>\n",
       "    <tr style=\"text-align: right;\">\n",
       "      <th></th>\n",
       "      <th>model</th>\n",
       "      <th>RMSE_train</th>\n",
       "      <th>RMSE_validate</th>\n",
       "    </tr>\n",
       "  </thead>\n",
       "  <tbody>\n",
       "    <tr>\n",
       "      <th>0</th>\n",
       "      <td>mean_baseline</td>\n",
       "      <td>167162.430722</td>\n",
       "      <td>167387.767193</td>\n",
       "    </tr>\n",
       "    <tr>\n",
       "      <th>1</th>\n",
       "      <td>OLS Regressor</td>\n",
       "      <td>163271.412421</td>\n",
       "      <td>163511.516044</td>\n",
       "    </tr>\n",
       "    <tr>\n",
       "      <th>2</th>\n",
       "      <td>lasso_alpha0.1</td>\n",
       "      <td>163281.489639</td>\n",
       "      <td>163521.782784</td>\n",
       "    </tr>\n",
       "  </tbody>\n",
       "</table>\n",
       "</div>"
      ],
      "text/plain": [
       "            model     RMSE_train  RMSE_validate\n",
       "0   mean_baseline  167162.430722  167387.767193\n",
       "1   OLS Regressor  163271.412421  163511.516044\n",
       "2  lasso_alpha0.1  163281.489639  163521.782784"
      ]
     },
     "execution_count": 72,
     "metadata": {},
     "output_type": "execute_result"
    }
   ],
   "source": [
    "metric_df"
   ]
  },
  {
   "cell_type": "markdown",
   "id": "6a34b22b",
   "metadata": {},
   "source": [
    "### TweedieRegressor (GLM)\n",
    "\n",
    "Fit the model using X_train (scaled) and the labels from y_train.\n",
    "\n",
    "Predict tax value for homes in training sample using our model (glm).\n",
    "\n",
    "Evaluate using RMSE\n",
    "\n",
    "Repeat predictions and evaluation for validation.\n",
    "\n",
    "Compare RMSE train vs. validation. Overfitting?"
   ]
  },
  {
   "cell_type": "code",
   "execution_count": 73,
   "id": "5391d309",
   "metadata": {},
   "outputs": [],
   "source": [
    "from sklearn.linear_model import TweedieRegressor"
   ]
  },
  {
   "cell_type": "code",
   "execution_count": 74,
   "id": "db256836",
   "metadata": {},
   "outputs": [
    {
     "data": {
      "text/plain": [
       "<AxesSubplot:>"
      ]
     },
     "execution_count": 74,
     "metadata": {},
     "output_type": "execute_result"
    },
    {
     "data": {
      "image/png": "[encoded data removed]",
      "text/plain": [
       "<Figure size 432x288 with 1 Axes>"
      ]
     },
     "metadata": {
      "needs_background": "light"
     },
     "output_type": "display_data"
    }
   ],
   "source": [
    "y_train.tax_value.hist()"
   ]
  },
  {
   "cell_type": "code",
   "execution_count": 75,
   "id": "c953866a",
   "metadata": {},
   "outputs": [
    {
     "name": "stdout",
     "output_type": "stream",
     "text": [
      "RMSE for GLM using Tweedie, power=1 & alpha=0\n",
      "Training/In-Sample:  163331.77940483554 \n",
      "Validation/Out-of-Sample:  163580.1776509355\n"
     ]
    }
   ],
   "source": [
    "# create the model object\n",
    "glm = TweedieRegressor(power=1, alpha=0)\n",
    "\n",
    "\n",
    "# fit the model to our training data. We must specify the column in y_train, \n",
    "# since we have converted it to a dataframe from a series! \n",
    "glm.fit(X_train_scaled, y_train.tax_value)\n",
    "\n",
    "# predict train\n",
    "y_train['tax_value_pred_glm'] = glm.predict(X_train_scaled)\n",
    "\n",
    "# evaluate: rmse\n",
    "rmse_train = mean_squared_error(y_train.tax_value, y_train.tax_value_pred_glm) ** (1/2)\n",
    "\n",
    "# predict validate\n",
    "y_validate['tax_value_pred_glm'] = glm.predict(X_validate_scaled)\n",
    "\n",
    "# evaluate: rmse\n",
    "rmse_validate = mean_squared_error(y_validate.tax_value, y_validate.tax_value_pred_glm) ** (1/2)\n",
    "\n",
    "print(\"RMSE for GLM using Tweedie, power=1 & alpha=0\\nTraining/In-Sample: \", rmse_train, \n",
    "      \"\\nValidation/Out-of-Sample: \", rmse_validate)"
   ]
  },
  {
   "cell_type": "code",
   "execution_count": 76,
   "id": "383cc4ae",
   "metadata": {},
   "outputs": [],
   "source": [
    "metric_df = metric_df.append({\n",
    "    'model': 'glm_poisson', \n",
    "    'RMSE_train': rmse_train,\n",
    "    'RMSE_validate': rmse_validate,\n",
    "    }, ignore_index=True)"
   ]
  },
  {
   "cell_type": "code",
   "execution_count": 77,
   "id": "51c14313",
   "metadata": {},
   "outputs": [
    {
     "data": {
      "text/html": [
       "<div>\n",
       "<style scoped>\n",
       "    .dataframe tbody tr th:only-of-type {\n",
       "        vertical-align: middle;\n",
       "    }\n",
       "\n",
       "    .dataframe tbody tr th {\n",
       "        vertical-align: top;\n",
       "    }\n",
       "\n",
       "    .dataframe thead th {\n",
       "        text-align: right;\n",
       "    }\n",
       "</style>\n",
       "<table border=\"1\" class=\"dataframe\">\n",
       "  <thead>\n",
       "    <tr style=\"text-align: right;\">\n",
       "      <th></th>\n",
       "      <th>model</th>\n",
       "      <th>RMSE_train</th>\n",
       "      <th>RMSE_validate</th>\n",
       "    </tr>\n",
       "  </thead>\n",
       "  <tbody>\n",
       "    <tr>\n",
       "      <th>0</th>\n",
       "      <td>mean_baseline</td>\n",
       "      <td>167162.430722</td>\n",
       "      <td>167387.767193</td>\n",
       "    </tr>\n",
       "    <tr>\n",
       "      <th>1</th>\n",
       "      <td>OLS Regressor</td>\n",
       "      <td>163271.412421</td>\n",
       "      <td>163511.516044</td>\n",
       "    </tr>\n",
       "    <tr>\n",
       "      <th>2</th>\n",
       "      <td>lasso_alpha0.1</td>\n",
       "      <td>163281.489639</td>\n",
       "      <td>163521.782784</td>\n",
       "    </tr>\n",
       "    <tr>\n",
       "      <th>3</th>\n",
       "      <td>glm_poisson</td>\n",
       "      <td>163331.779405</td>\n",
       "      <td>163580.177651</td>\n",
       "    </tr>\n",
       "  </tbody>\n",
       "</table>\n",
       "</div>"
      ],
      "text/plain": [
       "            model     RMSE_train  RMSE_validate\n",
       "0   mean_baseline  167162.430722  167387.767193\n",
       "1   OLS Regressor  163271.412421  163511.516044\n",
       "2  lasso_alpha0.1  163281.489639  163521.782784\n",
       "3     glm_poisson  163331.779405  163580.177651"
      ]
     },
     "execution_count": 77,
     "metadata": {},
     "output_type": "execute_result"
    }
   ],
   "source": [
    "metric_df"
   ]
  },
  {
   "cell_type": "markdown",
   "id": "62c1efba",
   "metadata": {},
   "source": [
    "### Polynomial Regression\n",
    "\n",
    "Using sklearn.preprocessing.PolynommialFeatures() + sklearn.linear_model.LinearRegression()\n",
    "\n",
    "Create the new features, based on value indicated for degree for train, validate & test.\n",
    "\n",
    "Fit the Linear Regression model\n",
    "\n",
    "Predict using the transformed (squared or cubed, e.g.) features\n",
    "\n",
    "Evaluate using RMSE\n",
    "\n",
    "Repeat predictions and evaluation for validation.\n",
    "\n",
    "Compare RMSE train vs. validation. Overfitting?"
   ]
  },
  {
   "cell_type": "code",
   "execution_count": 78,
   "id": "bdd920c7",
   "metadata": {},
   "outputs": [],
   "source": [
    "# make the polynomial features to get a new set of features\n",
    "pf = PolynomialFeatures(degree=2)\n",
    "\n",
    "# fit and transform X_train_scaled\n",
    "X_train_degree2 = pf.fit_transform(X_train_scaled)\n",
    "\n",
    "# transform X_validate_scaled & X_test_scaled\n",
    "X_validate_degree2 = pf.transform(X_validate_scaled)\n",
    "X_test_degree2 =  pf.transform(X_test_scaled)"
   ]
  },
  {
   "cell_type": "code",
   "execution_count": 79,
   "id": "64352159",
   "metadata": {},
   "outputs": [
    {
     "data": {
      "text/plain": [
       "(817402, 10)"
      ]
     },
     "execution_count": 79,
     "metadata": {},
     "output_type": "execute_result"
    }
   ],
   "source": [
    "X_train_degree2.shape"
   ]
  },
  {
   "cell_type": "markdown",
   "id": "2621f4e4",
   "metadata": {},
   "source": [
    "### LinearRegression"
   ]
  },
  {
   "cell_type": "code",
   "execution_count": 80,
   "id": "0c5ccf83",
   "metadata": {},
   "outputs": [
    {
     "name": "stdout",
     "output_type": "stream",
     "text": [
      "RMSE for Polynomial Model, degrees=2\n",
      "Training/In-Sample:  163157.13568499978 \n",
      "Validation/Out-of-Sample:  163406.10491334615\n"
     ]
    }
   ],
   "source": [
    "# create the model object\n",
    "lm2 = LinearRegression()\n",
    "\n",
    "# fit the model to our training data. We must specify the column in y_train, \n",
    "# since we have converted it to a dataframe from a series! \n",
    "lm2.fit(X_train_degree2, y_train.tax_value)\n",
    "\n",
    "# predict train\n",
    "y_train['tax_value_pred_lm2'] = lm2.predict(X_train_degree2)\n",
    "\n",
    "# evaluate: rmse\n",
    "rmse_train = mean_squared_error(y_train.tax_value, y_train.tax_value_pred_lm2) ** (1/2)\n",
    "\n",
    "# predict validate\n",
    "y_validate['tax_value_pred_lm2'] = lm2.predict(X_validate_degree2)\n",
    "\n",
    "# evaluate: rmse\n",
    "rmse_validate = mean_squared_error(y_validate.tax_value, y_validate.tax_value_pred_lm2) ** 0.5\n",
    "\n",
    "print(\"RMSE for Polynomial Model, degrees=2\\nTraining/In-Sample: \", rmse_train, \n",
    "      \"\\nValidation/Out-of-Sample: \", rmse_validate)"
   ]
  },
  {
   "cell_type": "code",
   "execution_count": 81,
   "id": "eeca270b",
   "metadata": {},
   "outputs": [],
   "source": [
    "metric_df = metric_df.append({\n",
    "    'model': 'quadratic', \n",
    "    'RMSE_train': rmse_train,\n",
    "    'RMSE_validate': rmse_validate,\n",
    "    }, ignore_index=True)"
   ]
  },
  {
   "cell_type": "code",
   "execution_count": 82,
   "id": "0ead8517",
   "metadata": {},
   "outputs": [
    {
     "data": {
      "text/html": [
       "<div>\n",
       "<style scoped>\n",
       "    .dataframe tbody tr th:only-of-type {\n",
       "        vertical-align: middle;\n",
       "    }\n",
       "\n",
       "    .dataframe tbody tr th {\n",
       "        vertical-align: top;\n",
       "    }\n",
       "\n",
       "    .dataframe thead th {\n",
       "        text-align: right;\n",
       "    }\n",
       "</style>\n",
       "<table border=\"1\" class=\"dataframe\">\n",
       "  <thead>\n",
       "    <tr style=\"text-align: right;\">\n",
       "      <th></th>\n",
       "      <th>model</th>\n",
       "      <th>RMSE_train</th>\n",
       "      <th>RMSE_validate</th>\n",
       "    </tr>\n",
       "  </thead>\n",
       "  <tbody>\n",
       "    <tr>\n",
       "      <th>0</th>\n",
       "      <td>mean_baseline</td>\n",
       "      <td>167162.430722</td>\n",
       "      <td>167387.767193</td>\n",
       "    </tr>\n",
       "    <tr>\n",
       "      <th>1</th>\n",
       "      <td>OLS Regressor</td>\n",
       "      <td>163271.412421</td>\n",
       "      <td>163511.516044</td>\n",
       "    </tr>\n",
       "    <tr>\n",
       "      <th>2</th>\n",
       "      <td>lasso_alpha0.1</td>\n",
       "      <td>163281.489639</td>\n",
       "      <td>163521.782784</td>\n",
       "    </tr>\n",
       "    <tr>\n",
       "      <th>3</th>\n",
       "      <td>glm_poisson</td>\n",
       "      <td>163331.779405</td>\n",
       "      <td>163580.177651</td>\n",
       "    </tr>\n",
       "    <tr>\n",
       "      <th>4</th>\n",
       "      <td>quadratic</td>\n",
       "      <td>163157.135685</td>\n",
       "      <td>163406.104913</td>\n",
       "    </tr>\n",
       "  </tbody>\n",
       "</table>\n",
       "</div>"
      ],
      "text/plain": [
       "            model     RMSE_train  RMSE_validate\n",
       "0   mean_baseline  167162.430722  167387.767193\n",
       "1   OLS Regressor  163271.412421  163511.516044\n",
       "2  lasso_alpha0.1  163281.489639  163521.782784\n",
       "3     glm_poisson  163331.779405  163580.177651\n",
       "4       quadratic  163157.135685  163406.104913"
      ]
     },
     "execution_count": 82,
     "metadata": {},
     "output_type": "execute_result"
    }
   ],
   "source": [
    "metric_df"
   ]
  },
  {
   "cell_type": "markdown",
   "id": "72b331e6",
   "metadata": {},
   "source": [
    "### Evaluate\n",
    "\n",
    "#### Plotting Actual vs. Predicted Values"
   ]
  },
  {
   "cell_type": "code",
   "execution_count": 83,
   "id": "0331f627",
   "metadata": {},
   "outputs": [
    {
     "ename": "AttributeError",
     "evalue": "'DataFrame' object has no attribute 'tax_value_pred_mean'",
     "output_type": "error",
     "traceback": [
      "\u001b[0;31m---------------------------------------------------------------------------\u001b[0m",
      "\u001b[0;31mAttributeError\u001b[0m                            Traceback (most recent call last)",
      "\u001b[0;32m/var/folders/jl/s3ptdwdx55v01d2g2wrs7vdc0000gn/T/ipykernel_45719/81936722.py\u001b[0m in \u001b[0;36m<module>\u001b[0;34m\u001b[0m\n\u001b[1;32m      1\u001b[0m \u001b[0;31m# y_validate.head()\u001b[0m\u001b[0;34m\u001b[0m\u001b[0;34m\u001b[0m\u001b[0;34m\u001b[0m\u001b[0m\n\u001b[1;32m      2\u001b[0m \u001b[0mplt\u001b[0m\u001b[0;34m.\u001b[0m\u001b[0mfigure\u001b[0m\u001b[0;34m(\u001b[0m\u001b[0mfigsize\u001b[0m\u001b[0;34m=\u001b[0m\u001b[0;34m(\u001b[0m\u001b[0;36m16\u001b[0m\u001b[0;34m,\u001b[0m\u001b[0;36m8\u001b[0m\u001b[0;34m)\u001b[0m\u001b[0;34m)\u001b[0m\u001b[0;34m\u001b[0m\u001b[0;34m\u001b[0m\u001b[0m\n\u001b[0;32m----> 3\u001b[0;31m \u001b[0mplt\u001b[0m\u001b[0;34m.\u001b[0m\u001b[0mplot\u001b[0m\u001b[0;34m(\u001b[0m\u001b[0my_validate\u001b[0m\u001b[0;34m.\u001b[0m\u001b[0mtax_value\u001b[0m\u001b[0;34m,\u001b[0m \u001b[0my_validate\u001b[0m\u001b[0;34m.\u001b[0m\u001b[0mtax_value_pred_mean\u001b[0m\u001b[0;34m,\u001b[0m \u001b[0malpha\u001b[0m\u001b[0;34m=\u001b[0m\u001b[0;36m.5\u001b[0m\u001b[0;34m,\u001b[0m \u001b[0mcolor\u001b[0m\u001b[0;34m=\u001b[0m\u001b[0;34m\"gray\"\u001b[0m\u001b[0;34m,\u001b[0m \u001b[0mlabel\u001b[0m\u001b[0;34m=\u001b[0m\u001b[0;34m'_nolegend_'\u001b[0m\u001b[0;34m)\u001b[0m\u001b[0;34m\u001b[0m\u001b[0;34m\u001b[0m\u001b[0m\n\u001b[0m\u001b[1;32m      4\u001b[0m \u001b[0mplt\u001b[0m\u001b[0;34m.\u001b[0m\u001b[0mannotate\u001b[0m\u001b[0;34m(\u001b[0m\u001b[0;34m\"Baseline: Predict Using Mean\"\u001b[0m\u001b[0;34m,\u001b[0m \u001b[0;34m(\u001b[0m\u001b[0;36m16\u001b[0m\u001b[0;34m,\u001b[0m \u001b[0;36m230000\u001b[0m\u001b[0;34m)\u001b[0m\u001b[0;34m)\u001b[0m\u001b[0;34m\u001b[0m\u001b[0;34m\u001b[0m\u001b[0m\n\u001b[1;32m      5\u001b[0m \u001b[0mplt\u001b[0m\u001b[0;34m.\u001b[0m\u001b[0mplot\u001b[0m\u001b[0;34m(\u001b[0m\u001b[0my_validate\u001b[0m\u001b[0;34m.\u001b[0m\u001b[0mtax_value\u001b[0m\u001b[0;34m,\u001b[0m \u001b[0my_validate\u001b[0m\u001b[0;34m.\u001b[0m\u001b[0mtax_value\u001b[0m\u001b[0;34m,\u001b[0m \u001b[0malpha\u001b[0m\u001b[0;34m=\u001b[0m\u001b[0;36m.5\u001b[0m\u001b[0;34m,\u001b[0m \u001b[0mcolor\u001b[0m\u001b[0;34m=\u001b[0m\u001b[0;34m\"blue\"\u001b[0m\u001b[0;34m,\u001b[0m \u001b[0mlabel\u001b[0m\u001b[0;34m=\u001b[0m\u001b[0;34m'_nolegend_'\u001b[0m\u001b[0;34m)\u001b[0m\u001b[0;34m\u001b[0m\u001b[0;34m\u001b[0m\u001b[0m\n",
      "\u001b[0;32m/usr/local/anaconda3/lib/python3.8/site-packages/pandas/core/generic.py\u001b[0m in \u001b[0;36m__getattr__\u001b[0;34m(self, name)\u001b[0m\n\u001b[1;32m   5463\u001b[0m             \u001b[0;32mif\u001b[0m \u001b[0mself\u001b[0m\u001b[0;34m.\u001b[0m\u001b[0m_info_axis\u001b[0m\u001b[0;34m.\u001b[0m\u001b[0m_can_hold_identifiers_and_holds_name\u001b[0m\u001b[0;34m(\u001b[0m\u001b[0mname\u001b[0m\u001b[0;34m)\u001b[0m\u001b[0;34m:\u001b[0m\u001b[0;34m\u001b[0m\u001b[0;34m\u001b[0m\u001b[0m\n\u001b[1;32m   5464\u001b[0m                 \u001b[0;32mreturn\u001b[0m \u001b[0mself\u001b[0m\u001b[0;34m[\u001b[0m\u001b[0mname\u001b[0m\u001b[0;34m]\u001b[0m\u001b[0;34m\u001b[0m\u001b[0;34m\u001b[0m\u001b[0m\n\u001b[0;32m-> 5465\u001b[0;31m             \u001b[0;32mreturn\u001b[0m \u001b[0mobject\u001b[0m\u001b[0;34m.\u001b[0m\u001b[0m__getattribute__\u001b[0m\u001b[0;34m(\u001b[0m\u001b[0mself\u001b[0m\u001b[0;34m,\u001b[0m \u001b[0mname\u001b[0m\u001b[0;34m)\u001b[0m\u001b[0;34m\u001b[0m\u001b[0;34m\u001b[0m\u001b[0m\n\u001b[0m\u001b[1;32m   5466\u001b[0m \u001b[0;34m\u001b[0m\u001b[0m\n\u001b[1;32m   5467\u001b[0m     \u001b[0;32mdef\u001b[0m \u001b[0m__setattr__\u001b[0m\u001b[0;34m(\u001b[0m\u001b[0mself\u001b[0m\u001b[0;34m,\u001b[0m \u001b[0mname\u001b[0m\u001b[0;34m:\u001b[0m \u001b[0mstr\u001b[0m\u001b[0;34m,\u001b[0m \u001b[0mvalue\u001b[0m\u001b[0;34m)\u001b[0m \u001b[0;34m->\u001b[0m \u001b[0;32mNone\u001b[0m\u001b[0;34m:\u001b[0m\u001b[0;34m\u001b[0m\u001b[0;34m\u001b[0m\u001b[0m\n",
      "\u001b[0;31mAttributeError\u001b[0m: 'DataFrame' object has no attribute 'tax_value_pred_mean'"
     ]
    },
    {
     "data": {
      "text/plain": [
       "<Figure size 1152x576 with 0 Axes>"
      ]
     },
     "metadata": {},
     "output_type": "display_data"
    }
   ],
   "source": [
    "# y_validate.head()\n",
    "plt.figure(figsize=(16,8))\n",
    "plt.plot(y_validate.tax_value, y_validate.tax_value_pred_mean, alpha=.5, color=\"gray\", label='_nolegend_')\n",
    "plt.annotate(\"Baseline: Predict Using Mean\", (16, 230000))\n",
    "plt.plot(y_validate.tax_value, y_validate.tax_value, alpha=.5, color=\"blue\", label='_nolegend_')\n",
    "plt.annotate(\"The Ideal Line: Predicted = Actual\", (10, 20000), rotation=26)\n",
    "\n",
    "plt.scatter(y_validate.tax_value, y_validate.tax_value_pred_lm, \n",
    "            alpha=.5, color=\"red\", s=100, label=\"Model: LinearRegression\")\n",
    "plt.scatter(y_validate.tax_value, y_validate.tax_value_pred_glm, \n",
    "            alpha=.5, color=\"yellow\", s=100, label=\"Model: TweedieRegressor\")\n",
    "plt.scatter(y_validate.tax_value, y_validate.tax_value_pred_lm2, \n",
    "            alpha=.5, color=\"green\", s=100, label=\"Model 2nd degree Polynomial\")\n",
    "plt.legend()\n",
    "plt.xlabel(\"Actual Tax Value\")\n",
    "plt.ylabel(\"Predicted Tax Value\")\n",
    "plt.title(\"Where are predictions more extreme? More modest?\")\n",
    "# plt.annotate(\"The polynomial model appears to overreact to noise\", (2.0, -10))\n",
    "# plt.annotate(\"The OLS model (LinearRegression)\\n appears to be most consistent\", (15.5, 3))\n",
    "plt.show()"
   ]
  },
  {
   "cell_type": "markdown",
   "id": "e0e05d6e",
   "metadata": {},
   "source": [
    "### Takeaways\n",
    "\n",
    "* The Linear Regression model is good at predicting tax values from the 100,000 to 350,000 range.\n",
    "* The two other models have similar predictions."
   ]
  },
  {
   "cell_type": "markdown",
   "id": "3fe4f234",
   "metadata": {},
   "source": [
    "#### Residual Plots: Plotting the Errors in Predictions"
   ]
  },
  {
   "cell_type": "code",
   "execution_count": 84,
   "id": "1932b1ba",
   "metadata": {},
   "outputs": [
    {
     "data": {
      "image/png": "[encoded data removed]",
      "text/plain": [
       "<Figure size 1152x576 with 1 Axes>"
      ]
     },
     "metadata": {
      "needs_background": "light"
     },
     "output_type": "display_data"
    }
   ],
   "source": [
    "# y_validate.head()\n",
    "plt.figure(figsize=(16,8))\n",
    "plt.axhline(label=\"No Error\")\n",
    "plt.scatter(y_validate.tax_value, y_validate.tax_value_pred_lm - y_validate.tax_value , \n",
    "            alpha=.5, color=\"red\", s=100, label=\"Model: LinearRegression\")\n",
    "plt.scatter(y_validate.tax_value, y_validate.tax_value_pred_glm - y_validate.tax_value, \n",
    "            alpha=.5, color=\"yellow\", s=100, label=\"Model: TweedieRegressor\")\n",
    "plt.scatter(y_validate.tax_value, y_validate.tax_value_pred_lm2 - y_validate.tax_value, \n",
    "            alpha=.5, color=\"green\", s=100, label=\"Model 2nd degree Polynomial\")\n",
    "plt.legend()\n",
    "plt.xlabel(\"Actual Tax Value\")\n",
    "plt.ylabel(\"Residual/Error: Predicted Tax Value - Actual Tax Value\")\n",
    "plt.title(\"Do the size of errors change as the actual value changes?\")\n",
    "plt.annotate(\"The polynomial model appears to overreact to noise\", (2.0, -10))\n",
    "plt.annotate(\"The OLS model (LinearRegression)\\n appears to be most consistent\", (15.5, 3))\n",
    "plt.show()"
   ]
  },
  {
   "cell_type": "markdown",
   "id": "0c461e81",
   "metadata": {},
   "source": [
    "### Takeaway\n",
    "* My models get a better prediction from the 150,000 to 300,000 range.\n",
    "* These models overvalues cheaper homes and undervalues more expensive homes."
   ]
  },
  {
   "cell_type": "markdown",
   "id": "4aec0052",
   "metadata": {},
   "source": [
    "### Histograms"
   ]
  },
  {
   "cell_type": "code",
   "execution_count": 85,
   "id": "6b556329",
   "metadata": {},
   "outputs": [
    {
     "data": {
      "image/png": "[encoded data removed]",
      "text/plain": [
       "<Figure size 1152x576 with 1 Axes>"
      ]
     },
     "metadata": {
      "needs_background": "light"
     },
     "output_type": "display_data"
    }
   ],
   "source": [
    "# plot to visualize actual vs predicted. \n",
    "plt.figure(figsize=(16,8))\n",
    "plt.hist(y_validate.tax_value, color='blue', alpha=.5, label=\"Actual Tax Values\")\n",
    "plt.hist(y_validate.tax_value_pred_lm, color='red', alpha=.5, label=\"Model: LinearRegression\")\n",
    "plt.hist(y_validate.tax_value_pred_glm, color='yellow', alpha=.5, label=\"Model: TweedieRegressor\")\n",
    "plt.hist(y_validate.tax_value_pred_lm2, color='green', alpha=.5, label=\"Model 2nd degree Polynomial\")\n",
    "# plt.xlabel(\"Tax Value\")\n",
    "plt.ylabel(\"Number of Homes\")\n",
    "plt.title(\"Comparing the Distribution of Actual Tax Values to Distributions of Predicted Tax Values for the Top Models\")\n",
    "plt.legend()\n",
    "plt.show()"
   ]
  },
  {
   "cell_type": "markdown",
   "id": "f2d3e1cc",
   "metadata": {},
   "source": [
    "### Takeaways\n",
    "\n",
    "* The models predict tax values from the 100000 to the 400000 range.\n",
    "* The models are overpredicting the amount of 200000-250000 dollar homes."
   ]
  },
  {
   "cell_type": "markdown",
   "id": "b80a994d",
   "metadata": {},
   "source": [
    "### Going with the OLS model to use on the test set."
   ]
  },
  {
   "cell_type": "code",
   "execution_count": 86,
   "id": "cafd7a9b",
   "metadata": {},
   "outputs": [],
   "source": [
    "# predict test\n",
    "# \n",
    "# use the thing!\n",
    "# \n",
    "y_test_predictions = lm.predict(X_test_scaled)"
   ]
  },
  {
   "cell_type": "code",
   "execution_count": null,
   "id": "ac0ba782",
   "metadata": {},
   "outputs": [],
   "source": []
  },
  {
   "cell_type": "code",
   "execution_count": 87,
   "id": "1b27db00",
   "metadata": {},
   "outputs": [],
   "source": [
    "# evaluate: rmse\n",
    "rmse_test = mean_squared_error(y_test, y_test_predictions) ** (1/2)"
   ]
  },
  {
   "cell_type": "code",
   "execution_count": 89,
   "id": "952cc61b",
   "metadata": {},
   "outputs": [
    {
     "data": {
      "text/plain": [
       "163232.60581145086"
      ]
     },
     "execution_count": 89,
     "metadata": {},
     "output_type": "execute_result"
    }
   ],
   "source": [
    "rmse_test"
   ]
  },
  {
   "cell_type": "code",
   "execution_count": 92,
   "id": "3afab610",
   "metadata": {},
   "outputs": [],
   "source": [
    "metric_df = metric_df.append({\n",
    "    'model': 'Best Model(OLS)', \n",
    "    'RMSE_test': rmse_test\n",
    "    }, ignore_index=True)"
   ]
  },
  {
   "cell_type": "code",
   "execution_count": 93,
   "id": "df498401",
   "metadata": {},
   "outputs": [
    {
     "data": {
      "text/html": [
       "<div>\n",
       "<style scoped>\n",
       "    .dataframe tbody tr th:only-of-type {\n",
       "        vertical-align: middle;\n",
       "    }\n",
       "\n",
       "    .dataframe tbody tr th {\n",
       "        vertical-align: top;\n",
       "    }\n",
       "\n",
       "    .dataframe thead th {\n",
       "        text-align: right;\n",
       "    }\n",
       "</style>\n",
       "<table border=\"1\" class=\"dataframe\">\n",
       "  <thead>\n",
       "    <tr style=\"text-align: right;\">\n",
       "      <th></th>\n",
       "      <th>model</th>\n",
       "      <th>RMSE_train</th>\n",
       "      <th>RMSE_validate</th>\n",
       "      <th>RMSE_test</th>\n",
       "    </tr>\n",
       "  </thead>\n",
       "  <tbody>\n",
       "    <tr>\n",
       "      <th>0</th>\n",
       "      <td>mean_baseline</td>\n",
       "      <td>167162.430722</td>\n",
       "      <td>167387.767193</td>\n",
       "      <td>NaN</td>\n",
       "    </tr>\n",
       "    <tr>\n",
       "      <th>1</th>\n",
       "      <td>OLS Regressor</td>\n",
       "      <td>163271.412421</td>\n",
       "      <td>163511.516044</td>\n",
       "      <td>NaN</td>\n",
       "    </tr>\n",
       "    <tr>\n",
       "      <th>2</th>\n",
       "      <td>lasso_alpha0.1</td>\n",
       "      <td>163281.489639</td>\n",
       "      <td>163521.782784</td>\n",
       "      <td>NaN</td>\n",
       "    </tr>\n",
       "    <tr>\n",
       "      <th>3</th>\n",
       "      <td>glm_poisson</td>\n",
       "      <td>163331.779405</td>\n",
       "      <td>163580.177651</td>\n",
       "      <td>NaN</td>\n",
       "    </tr>\n",
       "    <tr>\n",
       "      <th>4</th>\n",
       "      <td>quadratic</td>\n",
       "      <td>163157.135685</td>\n",
       "      <td>163406.104913</td>\n",
       "      <td>NaN</td>\n",
       "    </tr>\n",
       "    <tr>\n",
       "      <th>5</th>\n",
       "      <td>Best Model(OLS)</td>\n",
       "      <td>NaN</td>\n",
       "      <td>NaN</td>\n",
       "      <td>163232.605811</td>\n",
       "    </tr>\n",
       "  </tbody>\n",
       "</table>\n",
       "</div>"
      ],
      "text/plain": [
       "             model     RMSE_train  RMSE_validate      RMSE_test\n",
       "0    mean_baseline  167162.430722  167387.767193            NaN\n",
       "1    OLS Regressor  163271.412421  163511.516044            NaN\n",
       "2   lasso_alpha0.1  163281.489639  163521.782784            NaN\n",
       "3      glm_poisson  163331.779405  163580.177651            NaN\n",
       "4        quadratic  163157.135685  163406.104913            NaN\n",
       "5  Best Model(OLS)            NaN            NaN  163232.605811"
      ]
     },
     "execution_count": 93,
     "metadata": {},
     "output_type": "execute_result"
    }
   ],
   "source": [
    "metric_df"
   ]
  },
  {
   "cell_type": "code",
   "execution_count": null,
   "id": "0a572eb5",
   "metadata": {},
   "outputs": [],
   "source": []
  }
 ],
 "metadata": {
  "kernelspec": {
   "display_name": "Python 3 (ipykernel)",
   "language": "python",
   "name": "python3"
  },
  "language_info": {
   "codemirror_mode": {
    "name": "ipython",
    "version": 3
   },
   "file_extension": ".py",
   "mimetype": "text/x-python",
   "name": "python",
   "nbconvert_exporter": "python",
   "pygments_lexer": "ipython3",
   "version": "3.8.8"
  }
 },
 "nbformat": 4,
 "nbformat_minor": 5
}
