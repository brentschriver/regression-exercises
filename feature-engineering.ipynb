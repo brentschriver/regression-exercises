{
 "cells": [
  {
   "cell_type": "code",
   "execution_count": 32,
   "id": "39cafb19",
   "metadata": {},
   "outputs": [],
   "source": [
    "import pandas as pd\n",
    "import numpy as np\n",
    "import wrangle\n",
    "import warnings\n",
    "warnings.filterwarnings(\"ignore\")"
   ]
  },
  {
   "cell_type": "code",
   "execution_count": null,
   "id": "3e61282c",
   "metadata": {},
   "outputs": [],
   "source": [
    "# Here's the source for the dataset and data dictionary\n",
    "path = \"https://gist.githubusercontent.com/ryanorsinger/55ccfd2f7820af169baea5aad3a9c60d/raw/da6c5a33307ed7ee207bd119d3361062a1d1c07e/student-mat.csv\"\n",
    "\n",
    "df, X_train_explore, \\\n",
    "    X_train_scaled, y_train, \\\n",
    "    X_validate_scaled, y_validate, \\\n",
    "    X_test_scaled, y_test = wrangle.wrangle_student_math(path)"
   ]
  },
  {
   "cell_type": "markdown",
   "id": "1fe99345",
   "metadata": {},
   "source": [
    "### SelectKBest\n",
    "\n",
    "Select the K best features using a statistical test to compare each X with y and find which X's have the strongest relationship with yt. For regression, use the correlation test (f-regression) to score the relationships.\n",
    "\n",
    "1. Initialize the f_selector object, setting the parameters, or instructions for the method to follow: \"use the f_regression test for scoring the features to return to me the top 10 features\", for example.\n",
    "2. Fit the object to our data. That is, run a correlation test for every X variable with our y variable, and then rank the X variables based on how common are with the y/target variable. Then give me the top 10 features.\n",
    "3. Use get_support() to get the list of features, and save them to a variable that you can use to filter your dataframe in modeling."
   ]
  },
  {
   "cell_type": "code",
   "execution_count": null,
   "id": "b657501a",
   "metadata": {},
   "outputs": [],
   "source": [
    "from sklearn.feature_selection import SelectKBest, f_regression\n",
    "\n",
    "# parameters: f_regression stats test, give me 8 features\n",
    "f_selector = SelectKBest (f_regression, k=8)\n",
    "\n",
    "# find the top 8 X's correlated with y\n",
    "f_selector.fit(X_train_scaled, y_train)\n",
    "\n",
    "# boolean mask of whether the column was selected or not.\n",
    "feature_mask - f_selector.get_support()\n",
    "\n",
    "# get list of top K features.\n",
    "f_feature = X_train_scaled.iloc[:,feature_mask].columns.tolist()"
   ]
  },
  {
   "cell_type": "code",
   "execution_count": null,
   "id": "9750acd0",
   "metadata": {},
   "outputs": [],
   "source": [
    "f_feature"
   ]
  },
  {
   "cell_type": "markdown",
   "id": "0d5e23c2",
   "metadata": {},
   "source": [
    "### Recursive Feature Elimination\n",
    "\n",
    "Recursive Feature Elimination will create a model with all the features, evaluate the performance metrics, find the weakest features, remove it, then create a new model with the remaining features, evaluate the performance metrics, find the weakest feature, remove it, and so on, until it gets down to the number of features you have indicated you want when creating the rfe object. You will also indicate wwhich Machine Learning algorithm you want to use.\n",
    "\n",
    "1. Initialize the machine learning algorithm, in this case LinearRegression\n",
    "2. Initialize the RFE object, and provide the ML algorithm object from step 1\n",
    "3. Fit the RFE object to our data. Doing this will provide us a list of features ( the number we asked for) as well as a ranking of all the featuers.\n",
    "4. Assign the list of selected features to a variable.\n",
    "5. Optional: Get ranking of all variables (1 being most important)"
   ]
  },
  {
   "cell_type": "code",
   "execution_count": null,
   "id": "b9808fcb",
   "metadata": {},
   "outputs": [],
   "source": [
    "from sklearn.linear_model import LinearRegression\n",
    "from sklearn.feature_selection import RFE\n",
    "\n",
    "# initialize the ML algorithm\n",
    "lm = LinearRegression()\n",
    "\n",
    "# create the rfe object, indicating the ML object (lm) and the number of features I want to end up with.\n",
    "rfe = RFE(lm, 2)\n",
    "\n",
    "# fit the data using RFE\n",
    "rfe.fit(X_train_scaled,y_train)\n",
    "\n",
    "#get the mask of the columns selected\n",
    "feature_mask = rfe.support_\n",
    "\n",
    "#get list of the column names.\n",
    "rfe_feature = X_train_scaled.iloc[:,feature_mask].columns.tolist()"
   ]
  },
  {
   "cell_type": "code",
   "execution_count": null,
   "id": "1c7af134",
   "metadata": {},
   "outputs": [],
   "source": [
    "rfe_feature"
   ]
  },
  {
   "cell_type": "code",
   "execution_count": null,
   "id": "088631ae",
   "metadata": {},
   "outputs": [],
   "source": [
    "# view list of columns and their ranking\n",
    "\n",
    "# get the ranks\n",
    "var_ranks = rfe.ranking_\n",
    "# get the variable names\n",
    "var_name = X_train_scaled.columns.tolist()\n",
    "# combine ranks and names into a df for clean viewing\n",
    "rfe_ranks_df = pd.DataFrame({'Var': var_names, 'Rank': var_ranks})\n",
    "# sort the df by rank\n",
    "rfe_ranks_df.sort_values('Rank')"
   ]
  },
  {
   "cell_type": "markdown",
   "id": "40efbc84",
   "metadata": {},
   "source": [
    "## Exercises\n",
    "\n",
    "#### 1. Load the tips dataset."
   ]
  },
  {
   "cell_type": "code",
   "execution_count": 1,
   "id": "9c540bd8",
   "metadata": {},
   "outputs": [],
   "source": [
    "from pydataset import data"
   ]
  },
  {
   "cell_type": "code",
   "execution_count": 2,
   "id": "1b623825",
   "metadata": {},
   "outputs": [],
   "source": [
    "tips = data('tips')"
   ]
  },
  {
   "cell_type": "markdown",
   "id": "6c724a6e",
   "metadata": {},
   "source": [
    "####   a. Create a column named tip_percentage. This should be the tip amount divided by the total bill.\n",
    "  \n",
    "   "
   ]
  },
  {
   "cell_type": "code",
   "execution_count": 3,
   "id": "b36cb89e",
   "metadata": {},
   "outputs": [],
   "source": [
    "tips['tip_percentage'] = tips.tip / tips.total_bill"
   ]
  },
  {
   "cell_type": "code",
   "execution_count": 4,
   "id": "024049b7",
   "metadata": {},
   "outputs": [
    {
     "data": {
      "text/html": [
       "<div>\n",
       "<style scoped>\n",
       "    .dataframe tbody tr th:only-of-type {\n",
       "        vertical-align: middle;\n",
       "    }\n",
       "\n",
       "    .dataframe tbody tr th {\n",
       "        vertical-align: top;\n",
       "    }\n",
       "\n",
       "    .dataframe thead th {\n",
       "        text-align: right;\n",
       "    }\n",
       "</style>\n",
       "<table border=\"1\" class=\"dataframe\">\n",
       "  <thead>\n",
       "    <tr style=\"text-align: right;\">\n",
       "      <th></th>\n",
       "      <th>total_bill</th>\n",
       "      <th>tip</th>\n",
       "      <th>sex</th>\n",
       "      <th>smoker</th>\n",
       "      <th>day</th>\n",
       "      <th>time</th>\n",
       "      <th>size</th>\n",
       "      <th>tip_percentage</th>\n",
       "    </tr>\n",
       "  </thead>\n",
       "  <tbody>\n",
       "    <tr>\n",
       "      <th>1</th>\n",
       "      <td>16.99</td>\n",
       "      <td>1.01</td>\n",
       "      <td>Female</td>\n",
       "      <td>No</td>\n",
       "      <td>Sun</td>\n",
       "      <td>Dinner</td>\n",
       "      <td>2</td>\n",
       "      <td>0.059447</td>\n",
       "    </tr>\n",
       "    <tr>\n",
       "      <th>2</th>\n",
       "      <td>10.34</td>\n",
       "      <td>1.66</td>\n",
       "      <td>Male</td>\n",
       "      <td>No</td>\n",
       "      <td>Sun</td>\n",
       "      <td>Dinner</td>\n",
       "      <td>3</td>\n",
       "      <td>0.160542</td>\n",
       "    </tr>\n",
       "    <tr>\n",
       "      <th>3</th>\n",
       "      <td>21.01</td>\n",
       "      <td>3.50</td>\n",
       "      <td>Male</td>\n",
       "      <td>No</td>\n",
       "      <td>Sun</td>\n",
       "      <td>Dinner</td>\n",
       "      <td>3</td>\n",
       "      <td>0.166587</td>\n",
       "    </tr>\n",
       "    <tr>\n",
       "      <th>4</th>\n",
       "      <td>23.68</td>\n",
       "      <td>3.31</td>\n",
       "      <td>Male</td>\n",
       "      <td>No</td>\n",
       "      <td>Sun</td>\n",
       "      <td>Dinner</td>\n",
       "      <td>2</td>\n",
       "      <td>0.139780</td>\n",
       "    </tr>\n",
       "    <tr>\n",
       "      <th>5</th>\n",
       "      <td>24.59</td>\n",
       "      <td>3.61</td>\n",
       "      <td>Female</td>\n",
       "      <td>No</td>\n",
       "      <td>Sun</td>\n",
       "      <td>Dinner</td>\n",
       "      <td>4</td>\n",
       "      <td>0.146808</td>\n",
       "    </tr>\n",
       "  </tbody>\n",
       "</table>\n",
       "</div>"
      ],
      "text/plain": [
       "   total_bill   tip     sex smoker  day    time  size  tip_percentage\n",
       "1       16.99  1.01  Female     No  Sun  Dinner     2        0.059447\n",
       "2       10.34  1.66    Male     No  Sun  Dinner     3        0.160542\n",
       "3       21.01  3.50    Male     No  Sun  Dinner     3        0.166587\n",
       "4       23.68  3.31    Male     No  Sun  Dinner     2        0.139780\n",
       "5       24.59  3.61  Female     No  Sun  Dinner     4        0.146808"
      ]
     },
     "execution_count": 4,
     "metadata": {},
     "output_type": "execute_result"
    }
   ],
   "source": [
    "tips.head()"
   ]
  },
  {
   "cell_type": "markdown",
   "id": "2d8961c0",
   "metadata": {},
   "source": [
    "#### b. Create a column named price_per_person. This should be the total bill divided by the party size."
   ]
  },
  {
   "cell_type": "code",
   "execution_count": 5,
   "id": "51a61dc5",
   "metadata": {},
   "outputs": [],
   "source": [
    "tips['price_per_person'] = tips.total_bill / tips['size']"
   ]
  },
  {
   "cell_type": "code",
   "execution_count": 53,
   "id": "5895da92",
   "metadata": {},
   "outputs": [
    {
     "data": {
      "text/html": [
       "<div>\n",
       "<style scoped>\n",
       "    .dataframe tbody tr th:only-of-type {\n",
       "        vertical-align: middle;\n",
       "    }\n",
       "\n",
       "    .dataframe tbody tr th {\n",
       "        vertical-align: top;\n",
       "    }\n",
       "\n",
       "    .dataframe thead th {\n",
       "        text-align: right;\n",
       "    }\n",
       "</style>\n",
       "<table border=\"1\" class=\"dataframe\">\n",
       "  <thead>\n",
       "    <tr style=\"text-align: right;\">\n",
       "      <th></th>\n",
       "      <th>total_bill</th>\n",
       "      <th>tip</th>\n",
       "      <th>sex</th>\n",
       "      <th>smoker</th>\n",
       "      <th>day</th>\n",
       "      <th>time</th>\n",
       "      <th>size</th>\n",
       "      <th>tip_percentage</th>\n",
       "      <th>price_per_person</th>\n",
       "    </tr>\n",
       "  </thead>\n",
       "  <tbody>\n",
       "    <tr>\n",
       "      <th>1</th>\n",
       "      <td>16.99</td>\n",
       "      <td>1.01</td>\n",
       "      <td>Female</td>\n",
       "      <td>No</td>\n",
       "      <td>Sun</td>\n",
       "      <td>Dinner</td>\n",
       "      <td>2</td>\n",
       "      <td>0.059447</td>\n",
       "      <td>8.495000</td>\n",
       "    </tr>\n",
       "    <tr>\n",
       "      <th>2</th>\n",
       "      <td>10.34</td>\n",
       "      <td>1.66</td>\n",
       "      <td>Male</td>\n",
       "      <td>No</td>\n",
       "      <td>Sun</td>\n",
       "      <td>Dinner</td>\n",
       "      <td>3</td>\n",
       "      <td>0.160542</td>\n",
       "      <td>3.446667</td>\n",
       "    </tr>\n",
       "    <tr>\n",
       "      <th>3</th>\n",
       "      <td>21.01</td>\n",
       "      <td>3.50</td>\n",
       "      <td>Male</td>\n",
       "      <td>No</td>\n",
       "      <td>Sun</td>\n",
       "      <td>Dinner</td>\n",
       "      <td>3</td>\n",
       "      <td>0.166587</td>\n",
       "      <td>7.003333</td>\n",
       "    </tr>\n",
       "    <tr>\n",
       "      <th>4</th>\n",
       "      <td>23.68</td>\n",
       "      <td>3.31</td>\n",
       "      <td>Male</td>\n",
       "      <td>No</td>\n",
       "      <td>Sun</td>\n",
       "      <td>Dinner</td>\n",
       "      <td>2</td>\n",
       "      <td>0.139780</td>\n",
       "      <td>11.840000</td>\n",
       "    </tr>\n",
       "    <tr>\n",
       "      <th>5</th>\n",
       "      <td>24.59</td>\n",
       "      <td>3.61</td>\n",
       "      <td>Female</td>\n",
       "      <td>No</td>\n",
       "      <td>Sun</td>\n",
       "      <td>Dinner</td>\n",
       "      <td>4</td>\n",
       "      <td>0.146808</td>\n",
       "      <td>6.147500</td>\n",
       "    </tr>\n",
       "  </tbody>\n",
       "</table>\n",
       "</div>"
      ],
      "text/plain": [
       "   total_bill   tip     sex smoker  day    time  size  tip_percentage  \\\n",
       "1       16.99  1.01  Female     No  Sun  Dinner     2        0.059447   \n",
       "2       10.34  1.66    Male     No  Sun  Dinner     3        0.160542   \n",
       "3       21.01  3.50    Male     No  Sun  Dinner     3        0.166587   \n",
       "4       23.68  3.31    Male     No  Sun  Dinner     2        0.139780   \n",
       "5       24.59  3.61  Female     No  Sun  Dinner     4        0.146808   \n",
       "\n",
       "   price_per_person  \n",
       "1          8.495000  \n",
       "2          3.446667  \n",
       "3          7.003333  \n",
       "4         11.840000  \n",
       "5          6.147500  "
      ]
     },
     "execution_count": 53,
     "metadata": {},
     "output_type": "execute_result"
    }
   ],
   "source": [
    "tips.head()"
   ]
  },
  {
   "cell_type": "markdown",
   "id": "db069664",
   "metadata": {},
   "source": [
    "#### c. Before using any of the methods discussed in the lesson, which features do you think would be most important for predicting the tip amount? The tip percentage?"
   ]
  },
  {
   "cell_type": "markdown",
   "id": "b6f20cb1",
   "metadata": {},
   "source": [
    "I think the most important feature to predict tip amount will be total_bill. \n",
    "\n",
    "The most important feature to predict tip percentage will be price_per_person."
   ]
  },
  {
   "cell_type": "markdown",
   "id": "7eb722f1",
   "metadata": {},
   "source": [
    "#### d. Use select k best and recursive feature elimination to select the top 2 features for predicting tip amount. What  are they?\n"
   ]
  },
  {
   "cell_type": "code",
   "execution_count": 81,
   "id": "f55e431e",
   "metadata": {},
   "outputs": [
    {
     "name": "stdout",
     "output_type": "stream",
     "text": [
      "<class 'pandas.core.frame.DataFrame'>\n",
      "Int64Index: 244 entries, 1 to 244\n",
      "Data columns (total 9 columns):\n",
      " #   Column            Non-Null Count  Dtype  \n",
      "---  ------            --------------  -----  \n",
      " 0   total_bill        244 non-null    float64\n",
      " 1   tip               244 non-null    float64\n",
      " 2   sex               244 non-null    object \n",
      " 3   smoker            244 non-null    object \n",
      " 4   day               244 non-null    object \n",
      " 5   time              244 non-null    object \n",
      " 6   size              244 non-null    int64  \n",
      " 7   tip_percentage    244 non-null    float64\n",
      " 8   price_per_person  244 non-null    float64\n",
      "dtypes: float64(4), int64(1), object(4)\n",
      "memory usage: 19.1+ KB\n"
     ]
    }
   ],
   "source": [
    "tips.info()"
   ]
  },
  {
   "cell_type": "code",
   "execution_count": 8,
   "id": "82dafe9d",
   "metadata": {},
   "outputs": [],
   "source": [
    "from sklearn.model_selection import train_test_split\n",
    "\n",
    "def train_validate_test_split(df, target, seed=123):\n",
    "    '''\n",
    "    This function takes in a dataframe, the name of the target variable\n",
    "    (for stratification purposes), and an integer for a setting a seed\n",
    "    and splits the data into train, validate and test. \n",
    "    Test is 20% of the original dataset, validate is .30*.80= 24% of the \n",
    "    original dataset, and train is .70*.80= 56% of the original dataset. \n",
    "    The function returns, in this order, train, validate and test dataframes. \n",
    "    '''\n",
    "    train_validate, test = train_test_split(df, test_size=0.2, random_state=seed)\n",
    "    train, validate = train_test_split(train_validate, test_size=0.3, random_state=seed)\n",
    "    return train, validate, test\n",
    "\n",
    "# split into train, validate, test\n",
    "train, validate, test = train_validate_test_split(tips, tips['tip'], seed=123)"
   ]
  },
  {
   "cell_type": "code",
   "execution_count": 11,
   "id": "cad7129f",
   "metadata": {},
   "outputs": [],
   "source": [
    "from sklearn.feature_selection import SelectKBest, f_regression\n",
    "\n",
    "X_train = train.drop(columns=['tip','tip_percentage'])\n",
    "y_train = train['tip']\n",
    "\n",
    "X_validate = validate.drop(columns=['tip','tip_percentage'])\n",
    "y_validate = validate['tip']\n",
    "\n",
    "X_test = test.drop(columns=['tip','tip_percentage'])\n",
    "y_test = test['tip']"
   ]
  },
  {
   "cell_type": "code",
   "execution_count": 13,
   "id": "fc80c0af",
   "metadata": {},
   "outputs": [],
   "source": [
    "import sklearn.preprocessing\n",
    "\n",
    "quant_vars = ['total_bill', 'size', 'price_per_person']\n",
    "\n",
    "scaler = sklearn.preprocessing.RobustScaler()\n",
    "# Note that we only call .fit with the training data,\n",
    "# but we use .transform to apply the scaling to all the data splits.\n",
    "scaler.fit(train[quant_vars])\n",
    "\n",
    "X_train_scaled = scaler.transform(X_train[quant_vars])\n",
    "X_validate_scaled = scaler.transform(X_validate[quant_vars])\n",
    "X_test_scaled = scaler.transform(X_test[quant_vars])"
   ]
  },
  {
   "cell_type": "code",
   "execution_count": 39,
   "id": "0d3340e7",
   "metadata": {},
   "outputs": [],
   "source": [
    "X_train_scaled = pd.DataFrame(X_train_scaled, columns=['total_bill','size','price_per_person'])\n",
    "X_validate_scaled = pd.DataFrame(X_validate_scaled, columns=['total_bill','size','price_per_person'])\n",
    "X_test_scaled = pd.DataFrame(X_test_scaled, columns=['total_bill','size','price_per_person'])"
   ]
  },
  {
   "cell_type": "code",
   "execution_count": 46,
   "id": "5dbf8215",
   "metadata": {},
   "outputs": [],
   "source": [
    "# parameters: f_regression stats test, give me 2 features\n",
    "f_selector = SelectKBest(f_regression, k=2)\n",
    "\n",
    "# find the top 2 X's correlated with y\n",
    "f_selector.fit(X_train_scaled, y_train)\n",
    "\n",
    "# boolean mask of whether the column was selected or not.\n",
    "feature_mask = f_selector.get_support()\n",
    "\n",
    "# get list of top K features.\n",
    "f_feature = X_train_scaled.iloc[:,feature_mask].columns.tolist()"
   ]
  },
  {
   "cell_type": "code",
   "execution_count": 47,
   "id": "5a539f9d",
   "metadata": {},
   "outputs": [
    {
     "data": {
      "text/plain": [
       "['total_bill', 'size']"
      ]
     },
     "execution_count": 47,
     "metadata": {},
     "output_type": "execute_result"
    }
   ],
   "source": [
    "f_feature"
   ]
  },
  {
   "cell_type": "code",
   "execution_count": 49,
   "id": "57ff90af",
   "metadata": {},
   "outputs": [],
   "source": [
    "y_train = pd.DataFrame(y_train)"
   ]
  },
  {
   "cell_type": "code",
   "execution_count": null,
   "id": "2a184546",
   "metadata": {},
   "outputs": [],
   "source": []
  },
  {
   "cell_type": "code",
   "execution_count": 54,
   "id": "7aba0dae",
   "metadata": {},
   "outputs": [],
   "source": [
    "from sklearn.linear_model import LinearRegression\n",
    "from sklearn.feature_selection import RFE\n",
    "\n",
    "# initialize the ML algorithm\n",
    "lm = LinearRegression()\n",
    "\n",
    "# create the rfe object, indicating the ML object (lm) and the number of features I want to end up with. \n",
    "rfe = RFE(lm, 2)\n",
    "\n",
    "# fit the data using RFE\n",
    "rfe.fit(X_train_scaled,y_train)  \n",
    "\n",
    "# get the mask of the columns selected\n",
    "feature_mask = rfe.support_\n",
    "\n",
    "# get list of the column names. \n",
    "rfe_feature = X_train_scaled.iloc[:,feature_mask].columns.tolist()"
   ]
  },
  {
   "cell_type": "code",
   "execution_count": 55,
   "id": "e898168e",
   "metadata": {},
   "outputs": [
    {
     "data": {
      "text/plain": [
       "['total_bill', 'price_per_person']"
      ]
     },
     "execution_count": 55,
     "metadata": {},
     "output_type": "execute_result"
    }
   ],
   "source": [
    "rfe_feature"
   ]
  },
  {
   "cell_type": "code",
   "execution_count": 56,
   "id": "0725ec21",
   "metadata": {},
   "outputs": [
    {
     "data": {
      "text/html": [
       "<div>\n",
       "<style scoped>\n",
       "    .dataframe tbody tr th:only-of-type {\n",
       "        vertical-align: middle;\n",
       "    }\n",
       "\n",
       "    .dataframe tbody tr th {\n",
       "        vertical-align: top;\n",
       "    }\n",
       "\n",
       "    .dataframe thead th {\n",
       "        text-align: right;\n",
       "    }\n",
       "</style>\n",
       "<table border=\"1\" class=\"dataframe\">\n",
       "  <thead>\n",
       "    <tr style=\"text-align: right;\">\n",
       "      <th></th>\n",
       "      <th>Var</th>\n",
       "      <th>Rank</th>\n",
       "    </tr>\n",
       "  </thead>\n",
       "  <tbody>\n",
       "    <tr>\n",
       "      <th>0</th>\n",
       "      <td>total_bill</td>\n",
       "      <td>1</td>\n",
       "    </tr>\n",
       "    <tr>\n",
       "      <th>2</th>\n",
       "      <td>price_per_person</td>\n",
       "      <td>1</td>\n",
       "    </tr>\n",
       "    <tr>\n",
       "      <th>1</th>\n",
       "      <td>size</td>\n",
       "      <td>2</td>\n",
       "    </tr>\n",
       "  </tbody>\n",
       "</table>\n",
       "</div>"
      ],
      "text/plain": [
       "                Var  Rank\n",
       "0        total_bill     1\n",
       "2  price_per_person     1\n",
       "1              size     2"
      ]
     },
     "execution_count": 56,
     "metadata": {},
     "output_type": "execute_result"
    }
   ],
   "source": [
    "# view list of columns and their ranking\n",
    "\n",
    "# get the ranks\n",
    "var_ranks = rfe.ranking_\n",
    "# get the variable names\n",
    "var_names = X_train_scaled.columns.tolist()\n",
    "# combine ranks and names into a df for clean viewing\n",
    "rfe_ranks_df = pd.DataFrame({'Var': var_names, 'Rank': var_ranks})\n",
    "# sort the df by rank\n",
    "rfe_ranks_df.sort_values('Rank')"
   ]
  },
  {
   "cell_type": "markdown",
   "id": "6a6b5948",
   "metadata": {},
   "source": [
    "#### e. Use select k best and recursive feature elimination to select the top 2 features for predicting tip percentage.  What are they?"
   ]
  },
  {
   "cell_type": "code",
   "execution_count": 57,
   "id": "dcfead20",
   "metadata": {},
   "outputs": [],
   "source": [
    "X_train = train.drop(columns=['tip','tip_percentage'])\n",
    "y_train = train['tip_percentage']\n",
    "\n",
    "X_validate = validate.drop(columns=['tip','tip_percentage'])\n",
    "y_validate = validate['tip_percentage']\n",
    "\n",
    "X_test = test.drop(columns=['tip','tip_percentage'])\n",
    "y_test = test['tip_percentage']"
   ]
  },
  {
   "cell_type": "code",
   "execution_count": 69,
   "id": "426cbc94",
   "metadata": {},
   "outputs": [],
   "source": [
    "y_train = pd.DataFrame(y_train)\n",
    "y_validate = pd.DataFrame(y_validate)\n",
    "y_test = pd.DataFrame(y_test)\n",
    "\n",
    "X_train_scaled = scaler.transform(X_train[quant_vars])\n",
    "X_validate_scaled = scaler.transform(X_validate[quant_vars])\n",
    "X_test_scaled = scaler.transform(X_test[quant_vars])"
   ]
  },
  {
   "cell_type": "code",
   "execution_count": 72,
   "id": "efc4d5a5",
   "metadata": {},
   "outputs": [],
   "source": [
    "X_train_scaled = pd.DataFrame(X_train_scaled, columns=['total_bill','size','price_per_person'])\n",
    "X_validate_scaled = pd.DataFrame(X_validate_scaled, columns=['total_bill','size','price_per_person'])\n",
    "X_test_scaled = pd.DataFrame(X_test_scaled, columns=['total_bill','size','price_per_person'])"
   ]
  },
  {
   "cell_type": "code",
   "execution_count": 77,
   "id": "d539d283",
   "metadata": {},
   "outputs": [],
   "source": [
    "# find the top 2 X's correlated with y\n",
    "f_selector.fit(X_train_scaled, y_train)\n",
    "\n",
    "# boolean mask of whether the column was selected or not.\n",
    "feature_mask = f_selector.get_support()\n",
    "\n",
    "# get list of top K features.\n",
    "f_feature = X_train_scaled.iloc[:,feature_mask].columns.tolist()"
   ]
  },
  {
   "cell_type": "code",
   "execution_count": 78,
   "id": "7cf3e40f",
   "metadata": {},
   "outputs": [
    {
     "data": {
      "text/plain": [
       "['total_bill', 'price_per_person']"
      ]
     },
     "execution_count": 78,
     "metadata": {},
     "output_type": "execute_result"
    }
   ],
   "source": [
    "f_feature"
   ]
  },
  {
   "cell_type": "code",
   "execution_count": 79,
   "id": "681b3887",
   "metadata": {},
   "outputs": [],
   "source": [
    "# fit the data using RFE\n",
    "rfe.fit(X_train_scaled,y_train)  \n",
    "\n",
    "# get the mask of the columns selected\n",
    "feature_mask = rfe.support_\n",
    "\n",
    "# get list of the column names. \n",
    "rfe_feature = X_train_scaled.iloc[:,feature_mask].columns.tolist()"
   ]
  },
  {
   "cell_type": "code",
   "execution_count": 80,
   "id": "a40f5284",
   "metadata": {},
   "outputs": [
    {
     "data": {
      "text/plain": [
       "['size', 'price_per_person']"
      ]
     },
     "execution_count": 80,
     "metadata": {},
     "output_type": "execute_result"
    }
   ],
   "source": [
    "rfe_feature"
   ]
  },
  {
   "cell_type": "markdown",
   "id": "32b3c55d",
   "metadata": {},
   "source": [
    "#### f. Why do you think select k best and recursive feature elimination might give different answers for the top features? Does this change as you change the number of features your are selecting?"
   ]
  },
  {
   "cell_type": "markdown",
   "id": "414748e8",
   "metadata": {},
   "source": [
    "With SelectKBest the goal is to find and keep the attributes with highest correlation to the target variable and of those features. Recursive Feature Elimination, on the other hand, works by using the output of a machine learning algorithm as the evaluation criteria for eliminating features. Yes."
   ]
  },
  {
   "cell_type": "markdown",
   "id": "8993e37e",
   "metadata": {},
   "source": [
    "### 2. Write a function named select_kbest that takes in the predictors (X), the target (y), and the number of features to select (k) and returns the names of the top k selected features based on the SelectKBest class. Test your function with the tips dataset. You should see the same results as when you did the process manually."
   ]
  },
  {
   "cell_type": "code",
   "execution_count": 156,
   "id": "71866543",
   "metadata": {},
   "outputs": [],
   "source": [
    "def select_kbest(X, y, k):\n",
    "    # parameters: f_regression stats test, give me 2 features\n",
    "    f_selector = SelectKBest(f_regression, k=k)\n",
    "\n",
    "    # find the top 2 X's correlated with y\n",
    "    f_selector.fit(X, y)\n",
    "\n",
    "    # boolean mask of whether the column was selected or not.\n",
    "    feature_mask = f_selector.get_support()\n",
    "\n",
    "    # get list of top K features.\n",
    "    f_feature = X.iloc[:,feature_mask].columns.tolist()\n",
    "    \n",
    "    return f_feature\n",
    "    \n",
    "    \n",
    "    "
   ]
  },
  {
   "cell_type": "code",
   "execution_count": 158,
   "id": "d8c08070",
   "metadata": {},
   "outputs": [
    {
     "data": {
      "text/plain": [
       "['total_bill', 'price_per_person']"
      ]
     },
     "execution_count": 158,
     "metadata": {},
     "output_type": "execute_result"
    }
   ],
   "source": [
    "select_kbest(X_train_scaled, y_train, 2)"
   ]
  },
  {
   "cell_type": "markdown",
   "id": "577d119f",
   "metadata": {},
   "source": [
    "### 3. Write a function named rfe that takes in the predictors, the target, and the number of features to select. It should return the top k features based on the RFE class. Test your function with the tips dataset. You should see the same results as when you did the process manually.\n"
   ]
  },
  {
   "cell_type": "code",
   "execution_count": 161,
   "id": "4d24ff44",
   "metadata": {},
   "outputs": [],
   "source": [
    "def rfe(X, y, k):\n",
    "    from sklearn.linear_model import LinearRegression\n",
    "    from sklearn.feature_selection import RFE\n",
    "\n",
    "    # initialize the ML algorithm\n",
    "    lm = LinearRegression()\n",
    "\n",
    "    # create the rfe object, indicating the ML object (lm) and the number of features I want to end up with. \n",
    "    rfe = RFE(lm, k)\n",
    "\n",
    "    # fit the data using RFE\n",
    "    rfe.fit(X,y)  \n",
    "\n",
    "    # get the mask of the columns selected\n",
    "    feature_mask = rfe.support_\n",
    "\n",
    "    # get list of the column names. \n",
    "    rfe_feature = X.iloc[:,feature_mask].columns.tolist()\n",
    "    \n",
    "    return rfe_feature"
   ]
  },
  {
   "cell_type": "code",
   "execution_count": 162,
   "id": "8bd8488d",
   "metadata": {},
   "outputs": [
    {
     "data": {
      "text/plain": [
       "['size', 'price_per_person']"
      ]
     },
     "execution_count": 162,
     "metadata": {},
     "output_type": "execute_result"
    }
   ],
   "source": [
    "rfe(X_train_scaled, y_train, 2)"
   ]
  },
  {
   "cell_type": "code",
   "execution_count": null,
   "id": "ec0aafb1",
   "metadata": {},
   "outputs": [],
   "source": []
  },
  {
   "cell_type": "code",
   "execution_count": null,
   "id": "c7977106",
   "metadata": {},
   "outputs": [],
   "source": []
  },
  {
   "cell_type": "code",
   "execution_count": null,
   "id": "0ea91772",
   "metadata": {},
   "outputs": [],
   "source": []
  },
  {
   "cell_type": "code",
   "execution_count": null,
   "id": "33f9d5ca",
   "metadata": {},
   "outputs": [],
   "source": []
  },
  {
   "cell_type": "code",
   "execution_count": 125,
   "id": "d90f2609",
   "metadata": {},
   "outputs": [],
   "source": [
    "array = np.array([[1, 2, 3, 'hi', 'hello'], [4, 5, 6, 'sup','yup']])"
   ]
  },
  {
   "cell_type": "code",
   "execution_count": 126,
   "id": "14332a9a",
   "metadata": {},
   "outputs": [
    {
     "data": {
      "text/plain": [
       "array([['1', '2', '3', 'hi', 'hello'],\n",
       "       ['4', '5', '6', 'sup', 'yup']], dtype='<U21')"
      ]
     },
     "execution_count": 126,
     "metadata": {},
     "output_type": "execute_result"
    }
   ],
   "source": [
    "array"
   ]
  },
  {
   "cell_type": "code",
   "execution_count": 127,
   "id": "385ac83b",
   "metadata": {},
   "outputs": [],
   "source": [
    "df = pd.DataFrame(array, columns=['a','b','c','d','e'])"
   ]
  },
  {
   "cell_type": "code",
   "execution_count": 132,
   "id": "5e584cbd",
   "metadata": {},
   "outputs": [],
   "source": [
    "df[['a','b','c']] = df[['a','b','c']].astype(int)"
   ]
  },
  {
   "cell_type": "code",
   "execution_count": 133,
   "id": "8664b25d",
   "metadata": {},
   "outputs": [
    {
     "data": {
      "text/plain": [
       "a     int64\n",
       "b     int64\n",
       "c     int64\n",
       "d    object\n",
       "e    object\n",
       "dtype: object"
      ]
     },
     "execution_count": 133,
     "metadata": {},
     "output_type": "execute_result"
    }
   ],
   "source": [
    "df.dtypes"
   ]
  },
  {
   "cell_type": "code",
   "execution_count": 149,
   "id": "e1769a38",
   "metadata": {},
   "outputs": [
    {
     "data": {
      "text/plain": [
       "False"
      ]
     },
     "execution_count": 149,
     "metadata": {},
     "output_type": "execute_result"
    }
   ],
   "source": [
    "df.a.dtypes == 'object'"
   ]
  },
  {
   "cell_type": "code",
   "execution_count": 151,
   "id": "00d1e933",
   "metadata": {},
   "outputs": [],
   "source": [
    "quant_values = []\n",
    "for col in df.columns:\n",
    "    if df[col].dtypes == 'object':\n",
    "        quant_values.append(col)"
   ]
  },
  {
   "cell_type": "code",
   "execution_count": 152,
   "id": "54b7ad0f",
   "metadata": {},
   "outputs": [
    {
     "data": {
      "text/plain": [
       "['d', 'e', 'quantitative_values']"
      ]
     },
     "execution_count": 152,
     "metadata": {},
     "output_type": "execute_result"
    }
   ],
   "source": [
    "quant_values"
   ]
  },
  {
   "cell_type": "code",
   "execution_count": 154,
   "id": "7c0b071f",
   "metadata": {},
   "outputs": [],
   "source": [
    "quant_df = df[quant_values]"
   ]
  },
  {
   "cell_type": "code",
   "execution_count": 155,
   "id": "48b3696c",
   "metadata": {},
   "outputs": [
    {
     "data": {
      "text/html": [
       "<div>\n",
       "<style scoped>\n",
       "    .dataframe tbody tr th:only-of-type {\n",
       "        vertical-align: middle;\n",
       "    }\n",
       "\n",
       "    .dataframe tbody tr th {\n",
       "        vertical-align: top;\n",
       "    }\n",
       "\n",
       "    .dataframe thead th {\n",
       "        text-align: right;\n",
       "    }\n",
       "</style>\n",
       "<table border=\"1\" class=\"dataframe\">\n",
       "  <thead>\n",
       "    <tr style=\"text-align: right;\">\n",
       "      <th></th>\n",
       "      <th>d</th>\n",
       "      <th>e</th>\n",
       "      <th>quantitative_values</th>\n",
       "    </tr>\n",
       "  </thead>\n",
       "  <tbody>\n",
       "    <tr>\n",
       "      <th>0</th>\n",
       "      <td>hi</td>\n",
       "      <td>hello</td>\n",
       "      <td>NaN</td>\n",
       "    </tr>\n",
       "    <tr>\n",
       "      <th>1</th>\n",
       "      <td>sup</td>\n",
       "      <td>yup</td>\n",
       "      <td>NaN</td>\n",
       "    </tr>\n",
       "  </tbody>\n",
       "</table>\n",
       "</div>"
      ],
      "text/plain": [
       "     d      e quantitative_values\n",
       "0   hi  hello                 NaN\n",
       "1  sup    yup                 NaN"
      ]
     },
     "execution_count": 155,
     "metadata": {},
     "output_type": "execute_result"
    }
   ],
   "source": [
    "quant_df"
   ]
  },
  {
   "cell_type": "code",
   "execution_count": null,
   "id": "69007cf5",
   "metadata": {},
   "outputs": [],
   "source": []
  }
 ],
 "metadata": {
  "kernelspec": {
   "display_name": "Python 3 (ipykernel)",
   "language": "python",
   "name": "python3"
  },
  "language_info": {
   "codemirror_mode": {
    "name": "ipython",
    "version": 3
   },
   "file_extension": ".py",
   "mimetype": "text/x-python",
   "name": "python",
   "nbconvert_exporter": "python",
   "pygments_lexer": "ipython3",
   "version": "3.8.8"
  }
 },
 "nbformat": 4,
 "nbformat_minor": 5
}
