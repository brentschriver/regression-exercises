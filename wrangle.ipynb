{
 "cells": [
  {
   "cell_type": "code",
   "execution_count": 10,
   "id": "b4256339",
   "metadata": {},
   "outputs": [],
   "source": [
    "import pandas as pd\n",
    "import numpy as np\n",
    "import env\n",
    "import acquire\n",
    "import os\n",
    "\n",
    "def get_zillow_data_from_sql():\n",
    "    filename = \"zillow.csv\"\n",
    "    \n",
    "    query = \"\"\"\n",
    "    select * from properties_2017;\n",
    "    \"\"\"\n",
    "    \n",
    "    if os.path.isfile(filename):\n",
    "        return pd.read_csv(filename)\n",
    "    else:\n",
    "        # read the SQL query into a dataframe\n",
    "        zillow_df = pd.read_sql(query, acquire.get_connection('zillow'))\n",
    "        \n",
    "        # Write that dataframe to disk for later. Called \"caching\" the data for later.\n",
    "        zillow_df.to_file(filename)\n",
    "    \n",
    "    return zillow_df"
   ]
  },
  {
   "cell_type": "code",
   "execution_count": null,
   "id": "87e31807",
   "metadata": {},
   "outputs": [],
   "source": [
    "zillow = get_data_from_sql()"
   ]
  },
  {
   "cell_type": "code",
   "execution_count": null,
   "id": "ae6e101d",
   "metadata": {},
   "outputs": [],
   "source": [
    "zillow.info()"
   ]
  },
  {
   "cell_type": "code",
   "execution_count": null,
   "id": "032b1580",
   "metadata": {},
   "outputs": [],
   "source": []
  }
 ],
 "metadata": {
  "kernelspec": {
   "display_name": "Python 3 (ipykernel)",
   "language": "python",
   "name": "python3"
  },
  "language_info": {
   "codemirror_mode": {
    "name": "ipython",
    "version": 3
   },
   "file_extension": ".py",
   "mimetype": "text/x-python",
   "name": "python",
   "nbconvert_exporter": "python",
   "pygments_lexer": "ipython3",
   "version": "3.8.8"
  }
 },
 "nbformat": 4,
 "nbformat_minor": 5
}
